{
 "cells": [
  {
   "cell_type": "markdown",
   "metadata": {
    "id": "aeqC562fwZAJ"
   },
   "source": [
    "# Rețele neuronale feedforward"
   ]
  },
  {
   "cell_type": "markdown",
   "metadata": {
    "id": "iJ8_WD07weM7"
   },
   "source": [
    "Importuri necesare"
   ]
  },
  {
   "cell_type": "code",
   "execution_count": null,
   "metadata": {},
   "outputs": [],
   "source": [
    "import numpy as np\n",
    "import matplotlib.pyplot as plt\n",
    "from sklearn.neural_network import MLPClassifier"
   ]
  },
  {
   "cell_type": "markdown",
   "metadata": {
    "id": "UqCBzI_8MYaL"
   },
   "source": [
    "XOR"
   ]
  },
  {
   "cell_type": "code",
   "execution_count": null,
   "metadata": {},
   "outputs": [],
   "source": [
    "X = np.array([[0, 0], [0, 1], [1, 0], [1, 1]])\n",
    "y = np.array([0, 1, 1, 0]).reshape(4,)\n",
    "mlp = MLPClassifier(hidden_layer_sizes=(2,), activation='relu')\n",
    "mlp.fit(X, y)\n",
    "mlp.coefs_ = [np.array([[ -1.0 ,  1.0], [1.0, -1.0]]), np.array([[1.0],[1.0]])]\n",
    "mlp.intercepts_ = [np.array([-0.5, -0.5]), np.array([0.0])]\n",
    "y_pred=mlp.predict(X)                     \n",
    "print(y_pred)"
   ]
  },
  {
   "cell_type": "markdown",
   "metadata": {
    "id": "lUgkXff-MuIk"
   },
   "source": [
    "Suprafata de decizie"
   ]
  },
  {
   "cell_type": "code",
   "execution_count": null,
   "metadata": {},
   "outputs": [],
   "source": [
    "points = np.random.rand(1000,2)\n",
    "labels = mlp.predict(points)\n",
    "plt.ylim((0, 1))    \n",
    "plt.xlim((0, 1))  \n",
    "plt.plot(points[labels == 0, 0], points[labels == 0, 1], 'ro')\n",
    "plt.plot(points[labels == 1, 0], points[labels == 1, 1], 'g+')\n",
    "plt.show()"
   ]
  },
  {
   "cell_type": "code",
   "execution_count": null,
   "metadata": {},
   "outputs": [],
   "source": [
    "mlp2 = MLPClassifier(hidden_layer_sizes=(10,), activation='relu',solver='lbfgs',alpha=0.001, max_iter=10000)\n",
    "mlp2.fit(X, y)                   \n",
    "y_pred=mlp2.predict(X)            \n",
    "print(y_pred)"
   ]
  },
  {
   "cell_type": "code",
   "execution_count": null,
   "metadata": {},
   "outputs": [],
   "source": [
    "points = np.random.rand(1000,2)\n",
    "labels = mlp2.predict(points)\n",
    "plt.ylim((0, 1))    \n",
    "plt.xlim((0, 1))  \n",
    "plt.plot(points[labels == 0, 0], points[labels == 0, 1], 'ro')\n",
    "plt.plot(points[labels == 1, 0], points[labels == 1, 1], 'g+')\n",
    "plt.show()\n"
   ]
  },
  {
   "cell_type": "code",
   "execution_count": null,
   "metadata": {},
   "outputs": [],
   "source": [
    "def label(x, y):\n",
    "    if (x-y+1 >= 0) and (y>=0) and (-x-y+1>=0):\n",
    "        return 1\n",
    "    else:\n",
    "        return 0\n",
    "\n",
    "points = np.random.rand(20000, 2)*4-2\n",
    "labels = np.array([label(point[0], point[1]) for point in points])\n",
    "plt.ylim((-2, 2))\n",
    "plt.xlim((-2, 2))\n",
    "plt.plot(points[labels == 0, 0], points[labels == 0, 1], 'ro')\n",
    "plt.plot(points[labels == 1, 0], points[labels == 1, 1], 'g+')\n",
    "plt.show()"
   ]
  },
  {
   "cell_type": "code",
   "execution_count": null,
   "metadata": {},
   "outputs": [],
   "source": [
    "train_points = points[:10000]\n",
    "train_labels = labels[:10000]\n",
    "test_points = points[10000:]\n",
    "test_labels = labels[10000:]\n",
    "\n",
    "plt.ylim((-2, 2))\n",
    "plt.xlim((-2, 2))\n",
    "plt.plot(train_points[train_labels == 0, 0], train_points[train_labels == 0, 1], 'ro')\n",
    "plt.plot(train_points[train_labels == 1, 0], train_points[train_labels == 1, 1], 'g+')\n",
    "plt.show()\n"
   ]
  },
  {
   "cell_type": "code",
   "execution_count": null,
   "metadata": {},
   "outputs": [],
   "source": [
    "plt.ylim((-2, 2))\n",
    "plt.xlim((-2, 2))\n",
    "plt.plot(test_points[test_labels == 0, 0], test_points[test_labels == 0, 1], 'ro')\n",
    "plt.plot(test_points[test_labels == 1, 0], test_points[test_labels == 1, 1], 'g+')\n",
    "plt.show()\n"
   ]
  },
  {
   "cell_type": "code",
   "execution_count": null,
   "metadata": {},
   "outputs": [],
   "source": [
    "from sklearn.metrics import accuracy_score,f1_score\n",
    "\n",
    "mlp2 = MLPClassifier(hidden_layer_sizes=(10,), activation='relu', solver='lbfgs', alpha=0.001, max_iter=500)\n",
    "mlp2.fit(train_points, train_labels)\n",
    "y_pred = mlp2.predict(test_points)\n",
    "\n",
    "print(f1_score(y_pred, test_labels))\n",
    "plt.ylim((-2, 2))\n",
    "plt.xlim((-2, 2))\n",
    "plt.plot(test_points[y_pred == 0, 0], test_points[y_pred == 0, 1], 'ro')\n",
    "plt.plot(test_points[y_pred == 1, 0], test_points[y_pred == 1, 1], 'g+')\n",
    "plt.show()\n"
   ]
  }
 ],
 "metadata": {
  "language_info": {
   "name": "python"
  }
 },
 "nbformat": 4,
 "nbformat_minor": 0
}
