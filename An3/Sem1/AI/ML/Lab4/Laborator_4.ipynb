{
 "cells": [
  {
   "cell_type": "markdown",
   "metadata": {
    "id": "P__Db8icaB41"
   },
   "source": [
    "Importuri necesare"
   ]
  },
  {
   "cell_type": "code",
   "execution_count": null,
   "metadata": {},
   "outputs": [],
   "source": [
    "import numpy as np\n",
    "import matplotlib.pyplot as plt\n",
    "import math"
   ]
  },
  {
   "cell_type": "markdown",
   "metadata": {
    "id": "RLVbkkLUaMNp"
   },
   "source": [
    "Director date"
   ]
  },
  {
   "cell_type": "code",
   "execution_count": null,
   "metadata": {},
   "outputs": [],
   "source": [
    "dirPath = \"../Lab3/data/\""
   ]
  },
  {
   "cell_type": "markdown",
   "metadata": {
    "id": "a3fTgW5naUFc"
   },
   "source": [
    "Citire date si etichete train"
   ]
  },
  {
   "cell_type": "code",
   "execution_count": null,
   "metadata": {},
   "outputs": [],
   "source": [
    "train_images = np.loadtxt(dirPath + \"train_images.txt\")\n",
    "print(train_images.shape)\n",
    "print(train_images.ndim)\n",
    "print(type(train_images[0,0]))\n",
    "print(train_images.size)\n",
    "print(train_images.nbytes)"
   ]
  },
  {
   "cell_type": "code",
   "execution_count": null,
   "metadata": {},
   "outputs": [],
   "source": [
    "image = train_images[0,:]\n",
    "image = np.reshape(image,(28,28))\n",
    "print(image)\n",
    "plt.imshow(image,cmap = \"gray\")\n",
    "plt.show()"
   ]
  },
  {
   "cell_type": "code",
   "execution_count": null,
   "metadata": {},
   "outputs": [],
   "source": [
    "train_labels = np.loadtxt(dirPath + \"train_labels.txt\",'int8')\n",
    "print(train_labels.shape)\n",
    "print(type(train_labels[0]))\n",
    "print(train_labels.size)\n",
    "print(train_labels.nbytes)\n",
    "print(train_labels[0])"
   ]
  },
  {
   "cell_type": "code",
   "execution_count": null,
   "metadata": {},
   "outputs": [],
   "source": [
    "nbImages = 10\n",
    "plt.figure(figsize=(5,5))\n",
    "for i in range(nbImages**2):\n",
    "    plt.subplot(nbImages,nbImages,i+1)\n",
    "    plt.axis('off')\n",
    "    plt.imshow(np.reshape(train_images[i,:],(28,28)),cmap = \"gray\")\n",
    "plt.show()\n",
    "labels_nbImages = train_labels[:nbImages**2]\n",
    "print(np.reshape(labels_nbImages,(nbImages,nbImages)))"
   ]
  },
  {
   "cell_type": "markdown",
   "metadata": {
    "id": "kIQYPmUFaXEG"
   },
   "source": [
    "Citire date si etichete test"
   ]
  },
  {
   "cell_type": "code",
   "execution_count": null,
   "metadata": {},
   "outputs": [],
   "source": [
    "test_images = np.loadtxt(dirPath + \"test_images.txt\")\n",
    "print(test_images.shape)\n",
    "print(test_images.ndim)\n",
    "print(type(test_images[0,0]))\n",
    "print(test_images.size)\n",
    "print(test_images.nbytes)"
   ]
  },
  {
   "cell_type": "code",
   "execution_count": null,
   "metadata": {},
   "outputs": [],
   "source": [
    "test_labels = np.loadtxt(dirPath + \"test_labels.txt\",'int8')\n",
    "print(test_labels.shape)\n",
    "print(type(test_labels[0]))\n",
    "print(test_labels.size)\n",
    "print(test_labels.nbytes)\n",
    "print(test_labels[0])"
   ]
  },
  {
   "cell_type": "markdown",
   "metadata": {
    "id": "956iK0qVabd4"
   },
   "source": [
    "Calculul probabilitatilor a_priori P(c=i), i = 0,...,9 din datele de antrenare"
   ]
  },
  {
   "cell_type": "code",
   "execution_count": null,
   "metadata": {},
   "outputs": [],
   "source": [
    "p_C = np.zeros(10,'uint8')\n",
    "for label in train_labels:\n",
    "    p_C[label] = p_C[label]+1\n",
    "print(p_C/sum(p_C))"
   ]
  },
  {
   "cell_type": "markdown",
   "metadata": {
    "id": "Uw84E6ltahua"
   },
   "source": [
    "np.histogram"
   ]
  },
  {
   "cell_type": "code",
   "execution_count": null,
   "metadata": {},
   "outputs": [],
   "source": [
    "get_ipython().run_line_magic('pinfo', 'np.histogram')"
   ]
  },
  {
   "cell_type": "code",
   "execution_count": null,
   "metadata": {},
   "outputs": [],
   "source": [
    "dateExemplu = np.array([0, 63, 63, 64, 65, 128, 255, 15])\n",
    "numarIntervale = 4\n",
    "limiteInterval = np.linspace(0,256,numarIntervale+1)\n",
    "print(limiteInterval)\n",
    "histograma, _ = np.histogram(dateExemplu,limiteInterval)\n",
    "print(histograma)"
   ]
  },
  {
   "cell_type": "markdown",
   "metadata": {
    "id": "XYGlRXp9apeO"
   },
   "source": [
    "Calculul P(X_j = x_j|c=i) pentru clasa i =0, pixelul j=370"
   ]
  },
  {
   "cell_type": "code",
   "execution_count": null,
   "metadata": {},
   "outputs": [],
   "source": [
    "i = 0\n",
    "j = 370\n",
    "index = np.ravel(np.where(train_labels == i))\n",
    "print(\"Imaginile de antrenare care contin clasa \" + str(i) + \" au indecsii:\")\n",
    "print(index)"
   ]
  },
  {
   "cell_type": "code",
   "execution_count": null,
   "metadata": {},
   "outputs": [],
   "source": [
    "valoriPixeli = train_images[index,j]\n",
    "print(\"Pixelii de pe pozitia \" + str(j) + \" au valorile:\")\n",
    "print(valoriPixeli)\n",
    "numarIntervale = 4\n",
    "limiteInterval = np.linspace(0,256,numarIntervale+1)\n",
    "print(\"Limitele intervalelor sunt: \" + str(limiteInterval))\n",
    "histograma,trash = np.histogram(valoriPixeli,limiteInterval)\n",
    "print(\"Numarul de valori din fiecare interval este: \" + str(histograma))\n",
    "M_ij = histograma/sum(histograma) \n",
    "print(\"vectorul de probabilitati pentru clasa \" + str(i) + \" si pozitia \" + str(j) + \" este: \" + str(M_ij))"
   ]
  },
  {
   "cell_type": "markdown",
   "metadata": {
    "id": "nmUQoBBBatDI"
   },
   "source": [
    "np.digitize"
   ]
  },
  {
   "cell_type": "code",
   "execution_count": null,
   "metadata": {},
   "outputs": [],
   "source": [
    "get_ipython().run_line_magic('pinfo', 'np.digitize')"
   ]
  },
  {
   "cell_type": "code",
   "execution_count": null,
   "metadata": {},
   "outputs": [],
   "source": [
    "dateExemplu = np.array([0, 63,63, 128, 255, 15])\n",
    "numarIntervale = 4\n",
    "limiteInterval = np.linspace(0,256,numarIntervale+1)\n",
    "print(limiteInterval)\n",
    "indexInterval = np.digitize(dateExemplu,limiteInterval)\n",
    "print(indexInterval)\n"
   ]
  },
  {
   "cell_type": "code",
   "execution_count": null,
   "metadata": {},
   "outputs": [],
   "source": [
    "M = np.zeros((10,784,4))\n",
    "numarIntervale = 4\n",
    "limiteInterval = np.linspace(0, 256, numarIntervale+1)\n",
    "for i in range(10):\n",
    "    index = np.ravel(np.where(train_labels == i))\n",
    "    for j in range(784):\n",
    "        val_Pixel = train_images[index, j]\n",
    "        histograma, _ = np.histogram(val_Pixel, limiteInterval)\n",
    "        histograma = histograma/sum(histograma)\n",
    "        M[i,j,:] = histograma\n",
    "M += 0.000000001\n",
    "print(M[0,370])"
   ]
  },
  {
   "cell_type": "code",
   "execution_count": null,
   "metadata": {},
   "outputs": [],
   "source": [
    "def NaiveBayesClassifier(img, M, limiteIntervale, p_C):\n",
    "    prob = np.zeros(10)\n",
    "    for i in range(10):\n",
    "        prob[i] = math.log(p_C[i])\n",
    "        for j in range(784):\n",
    "            interval = np.digitize(img[j], limiteIntervale)\n",
    "            prob[i] += math.log(M[i,j,interval-1])\n",
    "    return np.argmax(prob)"
   ]
  },
  {
   "cell_type": "code",
   "execution_count": null,
   "metadata": {},
   "outputs": [],
   "source": [
    "image = test_images[0,:]\n",
    "print(NaiveBayesClassifier(image, M, limiteInterval , p_C))"
   ]
  },
  {
   "cell_type": "code",
   "execution_count": null,
   "metadata": {},
   "outputs": [],
   "source": [
    "predicted_labels = np.zeros(500)\n",
    "for i in range(500):\n",
    "    img = test_images[i,:]\n",
    "    predicted_labels[i] = NaiveBayesClassifier(img, M, limiteInterval, p_C)\n",
    "print(predicted_labels)\n"
   ]
  },
  {
   "cell_type": "code",
   "execution_count": null,
   "metadata": {},
   "outputs": [],
   "source": [
    "from sklearn.metrics import accuracy_score, confusion_matrix\n",
    "\n",
    "print(accuracy_score(test_labels, predicted_labels))\n",
    "\n",
    "print(confusion_matrix(test_labels, predicted_labels))\n"
   ]
  },
  {
   "cell_type": "code",
   "execution_count": null,
   "metadata": {},
   "outputs": [],
   "source": [
    "from sklearn.naive_bayes import MultinomialNB\n",
    "\n",
    "clf = MultinomialNB()\n",
    "clf.fit(train_images, train_labels)\n",
    "\n",
    "predicted_labels_2 = clf.predict(test_images)\n",
    "print(accuracy_score(test_labels, predicted_labels_2))\n",
    "print(confusion_matrix(test_labels, predicted_labels_2))\n"
   ]
  }
 ],
 "metadata": {
  "language_info": {
   "name": "python"
  }
 },
 "nbformat": 4,
 "nbformat_minor": 1
}
