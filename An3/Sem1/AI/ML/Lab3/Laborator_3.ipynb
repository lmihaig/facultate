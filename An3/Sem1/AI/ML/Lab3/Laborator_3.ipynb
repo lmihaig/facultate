{
 "cells": [
  {
   "cell_type": "markdown",
   "metadata": {
    "id": "g1xpPmA4X4Vk"
   },
   "source": [
    "# Metoda celor mai apropiați k-vecini\n"
   ]
  },
  {
   "cell_type": "markdown",
   "metadata": {
    "id": "hVvP_E2JYzfI"
   },
   "source": [
    "### Importuri necesare"
   ]
  },
  {
   "cell_type": "code",
   "execution_count": null,
   "metadata": {},
   "outputs": [],
   "source": [
    "import numpy as np\n",
    "import matplotlib.pyplot as plt"
   ]
  },
  {
   "cell_type": "markdown",
   "metadata": {
    "id": "oEVQ3ASPY7Yb"
   },
   "source": [
    "### Calea catre date"
   ]
  },
  {
   "cell_type": "code",
   "execution_count": null,
   "metadata": {},
   "outputs": [],
   "source": [
    "dataPath = \"data/\""
   ]
  },
  {
   "cell_type": "markdown",
   "metadata": {
    "id": "CHE1xfmbY_YN"
   },
   "source": [
    "### Incarcare date train"
   ]
  },
  {
   "cell_type": "code",
   "execution_count": null,
   "metadata": {},
   "outputs": [],
   "source": [
    "train_images = np.loadtxt(dataPath + \"train_images.txt\")\n",
    "train_labels = np.loadtxt(dataPath + \"train_labels.txt\", 'int8')\n",
    "\n",
    "print(train_images.shape)\n",
    "print(train_images.ndim)\n",
    "print(type(train_images[0, 0]))\n",
    "print(train_images.size)\n",
    "print(train_images.nbytes)\n"
   ]
  },
  {
   "cell_type": "markdown",
   "metadata": {
    "id": "9Mo-G1zRZEN_"
   },
   "source": [
    "### Plotare date train"
   ]
  },
  {
   "cell_type": "code",
   "execution_count": null,
   "metadata": {},
   "outputs": [],
   "source": [
    "nbImages = 10\n",
    "plt.figure(figsize=(5,5))\n",
    "for i in range(nbImages**2):\n",
    "    plt.subplot(nbImages,nbImages,i+1)\n",
    "    plt.axis('off')\n",
    "    plt.imshow(np.reshape(train_images[i,:],(28,28)),cmap = \"gray\")\n",
    "plt.show()\n",
    "labels_nbImages = train_labels[:nbImages**2]\n",
    "print(np.reshape(labels_nbImages,(nbImages,nbImages)))"
   ]
  },
  {
   "cell_type": "markdown",
   "metadata": {
    "id": "xeXSg5fUZG3w"
   },
   "source": [
    "### Incarcare date test"
   ]
  },
  {
   "cell_type": "code",
   "execution_count": null,
   "metadata": {},
   "outputs": [],
   "source": [
    "test_images = np.loadtxt(dataPath + \"test_images.txt\")\n",
    "test_labels = np.loadtxt(dataPath + \"test_labels.txt\", \"int8\")\n",
    "\n",
    "\n",
    "print(test_images.shape)\n",
    "print(test_images.ndim)\n",
    "print(type(test_images[0, 0]))\n",
    "print(test_images.size)\n",
    "print(test_images.nbytes)\n"
   ]
  },
  {
   "cell_type": "markdown",
   "metadata": {
    "id": "PWmdZfE6ZKpy"
   },
   "source": [
    "### Plotare date test"
   ]
  },
  {
   "cell_type": "code",
   "execution_count": null,
   "metadata": {},
   "outputs": [],
   "source": [
    "nbImages = 10\n",
    "plt.figure(figsize=(5,5))\n",
    "for i in range(nbImages**2):\n",
    "    plt.subplot(nbImages,nbImages,i+1)\n",
    "    plt.axis('off')\n",
    "    plt.imshow(np.reshape(test_images[i,:],(28,28)),cmap = \"gray\")\n",
    "plt.show()\n",
    "labels_nbImages = test_labels[:nbImages**2]\n",
    "print(np.reshape(labels_nbImages,(nbImages,nbImages)))"
   ]
  },
  {
   "cell_type": "code",
   "execution_count": null,
   "metadata": {},
   "outputs": [],
   "source": [
    "img = test_images[0,]\n",
    "plt.imshow(np.reshape(img,(28,28)), cmap = \"copper\")\n",
    "plt.show()"
   ]
  },
  {
   "cell_type": "code",
   "execution_count": null,
   "metadata": {},
   "outputs": [],
   "source": [
    "\n",
    "distances = np.sqrt((train_images - img)**2).sum(axis=1)\n",
    "indices=distances.argsort()\n",
    "# k = [1,3,5,7,9,11]\n",
    "# labels_knn = [train_labels[indices[:i]] for i in k]\n",
    "# for label in labels_knn:\n",
    "#     count = np.bincount(label)\n",
    "#     print(count.argmax())"
   ]
  },
  {
   "cell_type": "code",
   "execution_count": null,
   "metadata": {},
   "outputs": [],
   "source": [
    "x = indices[:7]\n",
    "for i in range(7):\n",
    "    plt.imshow(np.reshape(train_images[x[i]], (28, 28)), cmap=\"gray\")\n",
    "    plt.show()"
   ]
  },
  {
   "cell_type": "code",
   "execution_count": null,
   "metadata": {},
   "outputs": [],
   "source": [
    "def classify_image(train_images, train_labes, test_image, num_neighbors=3, metric='l2'):\n",
    "    if metric == \"l2\":\n",
    "        distances = np.sqrt(((train_images - test_image)**2).sum(axis=1))\n",
    "    elif metric == \"l1\":\n",
    "        distances = abs(train_images - test_image).sum(axis=1)\n",
    "    else:\n",
    "        raise ValueError(\"error\")\n",
    "    indices = distances.argsort()\n",
    "    labels_knn = train_labels[indices[:num_neighbors]]\n",
    "    count = np.bincount(labels_knn)\n",
    "    return count.argmax()"
   ]
  },
  {
   "cell_type": "code",
   "execution_count": null,
   "metadata": {},
   "outputs": [],
   "source": [
    "predicted_labels = np.zeros(len(test_labels))\n",
    "for i in range(len(test_labels)):\n",
    "    predicted_labels[i] = classify_image(train_images, train_labels, test_images[i])"
   ]
  },
  {
   "cell_type": "code",
   "execution_count": null,
   "metadata": {},
   "outputs": [],
   "source": [
    "from sklearn.metrics import accuracy_score\n",
    "print(accuracy_score(test_labels, predicted_labels))"
   ]
  },
  {
   "cell_type": "code",
   "execution_count": null,
   "metadata": {},
   "outputs": [],
   "source": [
    "def confusion_matrix(y_true, y_pred):\n",
    "    C = np.zeros((10,10), 'int8')\n",
    "    for i in range(len(y_true)):\n",
    "        C[int(y_true[i]), int(y_pred[i])] += 1\n",
    "    return C\n",
    "\n",
    "print(confusion_matrix(test_labels, predicted_labels))\n",
    "\n",
    "from sklearn import metrics\n",
    "\n",
    "print(metrics.confusion_matrix(test_labels, predicted_labels))"
   ]
  },
  {
   "cell_type": "code",
   "execution_count": null,
   "metadata": {},
   "outputs": [],
   "source": [
    "for i in range(len(test_labels)):\n",
    "    if test_labels[i] == 5 and predicted_labels[i] == 3:\n",
    "        cnt = 1\n",
    "        img = test_images[i, :]\n",
    "        plt.subplot(1, 4, cnt)\n",
    "        plt.axis('off')\n",
    "        plt.title(\"aaaaaaaaaa\")\n",
    "        plt.imshow(np.reshape(img, (28, 28)), cmap=\"gray\")\n",
    "        distances = np.sqrt(((train_images - img)**2).sum(axis=1))\n",
    "        indices = distances.argsort()\n",
    "        knn = indices[:3]\n",
    "        for j in range(3):\n",
    "            cnt += 1\n",
    "            plt.subplot(1, 4, cnt)\n",
    "            plt.axis('off')\n",
    "            plt.title(\"b\" * (j+1))\n",
    "            plt.imshow(np.reshape(train_images[knn[j]], (28, 28)), cmap=\"gray\")\n",
    "        plt.show()\n"
   ]
  },
  {
   "cell_type": "code",
   "execution_count": null,
   "metadata": {},
   "outputs": [],
   "source": [
    "k = [i for i in range(100) if i % 2]\n",
    "print(k)\n",
    "accuracy_l1 = np.zeros(len(k))\n",
    "accuracy_l2 = np.zeros(len(k))\n",
    "predicted_labels_l1 = np.zeros(len(test_images))\n",
    "predicted_labels_l2 = np.zeros(len(test_images))\n",
    "\n",
    "\n",
    "for i, c in enumerate(k):\n",
    "    for j, l in enumerate(test_images):\n",
    "        predicted_labels_l1[j] = classify_image(train_images, train_labels, test_images[j], c, \"l1\")\n",
    "        predicted_labels_l2[j] = classify_image(train_images, train_labels, test_images[j], c, \"l2\")\n",
    "    accuracy_l1[i] = accuracy_score(test_labels, predicted_labels_l1)\n",
    "    accuracy_l2[i] = accuracy_score(test_labels, predicted_labels_l2)\n",
    "\n",
    "print(accuracy_l1)\n",
    "print(accuracy_l2)\n"
   ]
  },
  {
   "cell_type": "code",
   "execution_count": null,
   "metadata": {},
   "outputs": [],
   "source": [
    "plt.plot(k, accuracy_l1, \"pink\")\n",
    "plt.plot(k, accuracy_l2, \"purple\")\n",
    "plt.title(\"titlu ba\")\n",
    "plt.xlabel(\"nr vecini\")\n",
    "plt.ylabel(\"acuratetea\")\n",
    "plt.legend((\"dist1\", \"dist2\"))\n",
    "plt.show()"
   ]
  },
  {
   "cell_type": "code",
   "execution_count": null,
   "metadata": {},
   "outputs": [],
   "source": [
    "from sklearn.neighbors import KNeighborsClassifier\n",
    "\n",
    "neigh = KNeighborsClassifier(n_neighbors=5)\n",
    "neigh.fit(train_images, train_labels)\n",
    "\n",
    "pred_labels2 = neigh.predict(test_images)\n",
    "print(accuracy_score(test_labels, pred_labels2))\n"
   ]
  }
 ],
 "metadata": {
  "language_info": {
   "name": "python"
  }
 },
 "nbformat": 4,
 "nbformat_minor": 1
}
