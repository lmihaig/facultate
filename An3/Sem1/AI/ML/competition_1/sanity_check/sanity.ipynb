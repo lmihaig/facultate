{
 "cells": [
  {
   "cell_type": "markdown",
   "metadata": {},
   "source": [
    "```python\n",
    "python -m spacy download nl_core_news_lg\n",
    "python -m spacy download da_core_news_lg\n",
    "python -m spacy download de_core_news_lg\n",
    "python -m spacy download it_core_news_lg\n",
    "python -m spacy download es_core_news_lg\n",
    "```"
   ]
  },
  {
   "cell_type": "code",
   "execution_count": 1,
   "metadata": {},
   "outputs": [
    {
     "name": "stderr",
     "output_type": "stream",
     "text": [
      "C:\\Users\\lmg\\AppData\\Roaming\\Python\\Python310\\site-packages\\tqdm\\auto.py:22: TqdmWarning: IProgress not found. Please update jupyter and ipywidgets. See https://ipywidgets.readthedocs.io/en/stable/user_install.html\n",
      "  from .autonotebook import tqdm as notebook_tqdm\n"
     ]
    }
   ],
   "source": [
    "from sklearn.linear_model import LogisticRegression\n",
    "from sklearn.feature_extraction.text import CountVectorizer\n",
    "import pandas as pd\n",
    "import numpy as np\n",
    "from sklearn.model_selection import KFold\n",
    "from sklearn.metrics import accuracy_score, f1_score\n",
    "import spacy"
   ]
  },
  {
   "cell_type": "code",
   "execution_count": 2,
   "metadata": {},
   "outputs": [],
   "source": [
    "def preprocess(data):\n",
    "    data.text.replace(r'\\s+|\\\\n', ' ', regex=True, inplace=True)\n",
    "    data.text = data.text.str.strip(\" -.,\")\n",
    "    # data.text = data.text.str.lower()\n",
    "    data.text.replace(r'\\n', '', regex=True, inplace=True)\n",
    "    data.text.replace('', np.nan, regex=True, inplace=True)\n",
    "    data.dropna(inplace=True)\n",
    "    return data\n",
    "\n",
    "# eng = pd.read_csv(\"old/England.csv\")\n",
    "# ire = pd.read_csv(\"old/Ireland.csv\")\n",
    "# scot = pd.read_csv(\"old/Scotland.csv\")\n",
    "# train_data = pd.concat([eng, scot, ire])\n",
    "train_data = pd.read_csv(\"train_data.csv\")\n",
    "train_data = preprocess(train_data)\n",
    "train_data.reset_index(inplace=True)"
   ]
  },
  {
   "cell_type": "code",
   "execution_count": 3,
   "metadata": {},
   "outputs": [],
   "source": [
    "def noent(nlp, row):\n",
    "    try:\n",
    "        doc = nlp(row)\n",
    "        sentence = \" SENTSEP \".join([\" \".join([t.text if t.ent_type == 0 else t.ent_type_ for t in d]) for d in doc.sents])\n",
    "        return sentence\n",
    "    except:\n",
    "        print(row)\n",
    "\n",
    "def make_noent(df, nlp, path):\n",
    "    df[\"text\"] = df.text.apply(lambda row: noent(nlp, row))\n",
    "    df.to_csv(path+\"_noent.csv\", index=False)\n",
    "\n",
    "\n",
    "def pos(nlp, row):\n",
    "    try:\n",
    "        doc = nlp(row)\n",
    "        sentence = \" SENTSEP \".join([\" \".join([t.pos_ for t in d]) for d in doc.sents])\n",
    "        return sentence\n",
    "    except:\n",
    "        print(row)\n",
    "\n",
    "def make_pos(df, nlp, path):\n",
    "    df[\"text\"] = df.text.apply(lambda row: pos(nlp, row))\n",
    "    df.to_csv(path+\"_pos.csv\", index=False)\n"
   ]
  },
  {
   "cell_type": "code",
   "execution_count": 4,
   "metadata": {},
   "outputs": [
    {
     "name": "stdout",
     "output_type": "stream",
     "text": [
      "ready to work 'fr'\n",
      "work work\n"
     ]
    }
   ],
   "source": [
    "nlp = spacy.load(\"fr_core_news_lg\")\n",
    "\n",
    "print(f\"ready to work 'fr'\")\n",
    "make_noent(train_data.copy(), nlp, \"fr\")\n",
    "\n",
    "print(\"work work\")\n",
    "make_pos(train_data.copy(), nlp, \"fr\")\n"
   ]
  },
  {
   "cell_type": "code",
   "execution_count": 5,
   "metadata": {},
   "outputs": [],
   "source": [
    "kfold = KFold(n_splits=5, shuffle=True, random_state=21)\n",
    "model = LogisticRegression(penalty='l2',\n",
    "                           dual=False,\n",
    "                           max_iter=10000,\n",
    "                           tol=0.0001,\n",
    "                           solver='liblinear',\n",
    "                           C=1,\n",
    "                           fit_intercept=True,\n",
    "                           intercept_scaling=1.0,\n",
    "                           class_weight=None,\n",
    "                           random_state=1)\n",
    "\n",
    "cvc = CountVectorizer(max_features=500,\n",
    "                      ngram_range=(1, 5))\n",
    "\n",
    "\n",
    "def log_entropy_weight(matrix):\n",
    "    if type(matrix) is not np.ndarray:\n",
    "        matrix = matrix.toarray()\n",
    "    normalized = matrix / (1 + np.sum(matrix, axis=0))\n",
    "    nr_docs, _ = matrix.shape\n",
    "    '''\n",
    "        g_i = 1 + sum     p_ij * log(p_ij + 1)   \n",
    "                 j=1,N  ------------------------\n",
    "                               log(N)                              \n",
    "    '''\n",
    "    entropy = 1 + np.sum(np.multiply(normalized, np.log(normalized + 1)), axis=0)/np.log(nr_docs)\n",
    "    '''\n",
    "        logent_ij = gi * log(tf_ij + 1)\n",
    "    '''\n",
    "    log_ent = entropy * np.log(matrix + 1)\n",
    "    return log_ent\n",
    "\n",
    "\n"
   ]
  },
  {
   "cell_type": "code",
   "execution_count": 6,
   "metadata": {},
   "outputs": [
    {
     "name": "stdout",
     "output_type": "stream",
     "text": [
      "Acc: [0.8953846153846153, 0.8830769230769231, 0.8646153846153846, 0.8953846153846153, 0.8672839506172839]\n",
      "F1:  [0.8953957920257181, 0.8840638301312873, 0.8664613843256918, 0.8954692714692715, 0.8681333957010626]\n"
     ]
    }
   ],
   "source": [
    "from sklearn.preprocessing import LabelEncoder\n",
    "from imblearn.under_sampling import RandomUnderSampler\n",
    "from imblearn.over_sampling import RandomOverSampler\n",
    "\n",
    "\n",
    "train = pd.read_csv(\"fr_noent.csv\")\n",
    "\n",
    "acc = []\n",
    "f1 = []\n",
    "for train_index, test_index in kfold.split(train):\n",
    "        X_train, X_test = train.text[train_index], train.text[test_index]\n",
    "        y_train, y_test = train.label[train_index], train.label[test_index]\n",
    "\n",
    "        # X_train = np.array(X_train).reshape(-1, 1)\n",
    "        # us = RandomUnderSampler(random_state=21)\n",
    "        # os = RandomOverSampler(random_state=21)\n",
    "        # X_train, y_train = os.fit_resample(X_train, y_train)\n",
    "        # X_train = X_train.flatten()\n",
    "\n",
    "        X = cvc.fit_transform(list(X_train) + list(X_test))\n",
    "        # X = log_entropy_weight(X)\n",
    "\n",
    "        model.fit(X[:len(X_train)], y_train)\n",
    "        res = model.predict(X[len(X_train):])\n",
    "        acc.append(accuracy_score(res, y_test))\n",
    "        f1.append(f1_score(res, y_test, average='weighted'))\n",
    "\n",
    "print(\"Acc:\", acc)\n",
    "print(\"F1: \", f1)"
   ]
  }
 ],
 "metadata": {
  "kernelspec": {
   "display_name": "Python 3.10.2 64-bit",
   "language": "python",
   "name": "python3"
  },
  "language_info": {
   "codemirror_mode": {
    "name": "ipython",
    "version": 3
   },
   "file_extension": ".py",
   "mimetype": "text/x-python",
   "name": "python",
   "nbconvert_exporter": "python",
   "pygments_lexer": "ipython3",
   "version": "3.10.2"
  },
  "orig_nbformat": 4,
  "vscode": {
   "interpreter": {
    "hash": "26de051ba29f2982a8de78e945f0abaf191376122a1563185a90213a26c5da77"
   }
  }
 },
 "nbformat": 4,
 "nbformat_minor": 2
}
