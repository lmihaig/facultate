{
 "cells": [
  {
   "cell_type": "markdown",
   "metadata": {},
   "source": [
    "```python\n",
    "python -m spacy download nl_core_news_lg\n",
    "python -m spacy download da_core_news_lg\n",
    "python -m spacy download de_core_news_lg\n",
    "python -m spacy download it_core_news_lg\n",
    "python -m spacy download es_core_news_lg\n",
    "```"
   ]
  },
  {
   "cell_type": "code",
   "execution_count": null,
   "metadata": {},
   "outputs": [],
   "source": [
    "from sklearn.linear_model import LogisticRegression\n",
    "from sklearn.feature_extraction.text import CountVectorizer\n",
    "import pandas as pd\n",
    "import numpy as np\n",
    "from sklearn.model_selection import KFold\n",
    "from sklearn.metrics import accuracy_score, f1_score\n",
    "import spacy"
   ]
  },
  {
   "cell_type": "code",
   "execution_count": null,
   "metadata": {},
   "outputs": [],
   "source": [
    "def preprocess(data):\n",
    "    data.text.replace(r'\\s+|\\\\n', ' ', regex=True, inplace=True)\n",
    "    data.text = data.text.str.strip(\" -.,\")\n",
    "    # data.text = data.text.str.lower()\n",
    "    data.text.replace(r'\\n', '', regex=True, inplace=True)\n",
    "    data.text.replace('', np.nan, regex=True, inplace=True)\n",
    "    data.dropna(inplace=True)\n",
    "    return data\n",
    "\n",
    "# eng = pd.read_csv(\"old/England.csv\")\n",
    "# ire = pd.read_csv(\"old/Ireland.csv\")\n",
    "# scot = pd.read_csv(\"old/Scotland.csv\")\n",
    "# train_data = pd.concat([eng, scot, ire])\n",
    "train_data = pd.read_csv(\"train_data.csv\")\n",
    "train_data = preprocess(train_data)\n",
    "train_data.reset_index(inplace=True)"
   ]
  },
  {
   "cell_type": "code",
   "execution_count": null,
   "metadata": {},
   "outputs": [],
   "source": [
    "def noent(nlp, row):\n",
    "    try:\n",
    "        doc = nlp(row)\n",
    "        sentence = \" SENTSEP \".join([\" \".join([t.text if t.ent_type == 0 else t.ent_type_ for t in d]) for d in doc.sents])\n",
    "        return sentence\n",
    "    except:\n",
    "        print(row)\n",
    "\n",
    "def make_noent(df, nlp, path):\n",
    "    df[\"text\"] = df.text.apply(lambda row: noent(nlp, row))\n",
    "    df.to_csv(path+\"_noent.csv\", index=False)\n",
    "\n",
    "\n",
    "def pos(nlp, row):\n",
    "    try:\n",
    "        doc = nlp(row)\n",
    "        sentence = \" SENTSEP \".join([\" \".join([t.pos_ for t in d]) for d in doc.sents])\n",
    "        return sentence\n",
    "    except:\n",
    "        print(row)\n",
    "\n",
    "def make_pos(df, nlp, path):\n",
    "    df[\"text\"] = df.text.apply(lambda row: pos(nlp, row))\n",
    "    df.to_csv(path+\"_pos.csv\", index=False)\n"
   ]
  },
  {
   "cell_type": "code",
   "execution_count": null,
   "metadata": {},
   "outputs": [],
   "source": [
    "nlp = spacy.load(\"fr_core_news_lg\")\n",
    "\n",
    "print(f\"ready to work 'fr'\")\n",
    "make_noent(train_data.copy(), nlp, \"fr\")\n",
    "\n",
    "print(\"work work\")\n",
    "make_pos(train_data.copy(), nlp, \"fr\")\n"
   ]
  },
  {
   "cell_type": "code",
   "execution_count": null,
   "metadata": {},
   "outputs": [],
   "source": [
    "kfold = KFold(n_splits=5, shuffle=True, random_state=21)\n",
    "model = LogisticRegression(penalty='l2',\n",
    "                           dual=False,\n",
    "                           max_iter=10000,\n",
    "                           tol=0.0001,\n",
    "                           solver='liblinear',\n",
    "                           C=1,\n",
    "                           fit_intercept=True,\n",
    "                           intercept_scaling=1.0,\n",
    "                           class_weight=None,\n",
    "                           random_state=1)\n",
    "\n",
    "cvc = CountVectorizer(max_features=500,\n",
    "                      ngram_range=(1, 5))\n",
    "\n",
    "\n",
    "def log_entropy_weight(matrix):\n",
    "    if type(matrix) is not np.ndarray:\n",
    "        matrix = matrix.toarray()\n",
    "    normalized = matrix / (1 + np.sum(matrix, axis=0))\n",
    "    nr_docs, _ = matrix.shape\n",
    "    '''\n",
    "        g_i = 1 + sum     p_ij * log(p_ij + 1)   \n",
    "                 j=1,N  ------------------------\n",
    "                               log(N)                              \n",
    "    '''\n",
    "    entropy = 1 + np.sum(np.multiply(normalized, np.log(normalized + 1)), axis=0)/np.log(nr_docs)\n",
    "    '''\n",
    "        logent_ij = gi * log(tf_ij + 1)\n",
    "    '''\n",
    "    log_ent = entropy * np.log(matrix + 1)\n",
    "    return log_ent\n",
    "\n",
    "\n"
   ]
  },
  {
   "cell_type": "code",
   "execution_count": null,
   "metadata": {},
   "outputs": [],
   "source": [
    "from sklearn.preprocessing import LabelEncoder\n",
    "from imblearn.under_sampling import RandomUnderSampler\n",
    "from imblearn.over_sampling import RandomOverSampler\n",
    "\n",
    "\n",
    "train = pd.read_csv(\"fr_noent.csv\")\n",
    "\n",
    "acc = []\n",
    "f1 = []\n",
    "for train_index, test_index in kfold.split(train):\n",
    "        X_train, X_test = train.text[train_index], train.text[test_index]\n",
    "        y_train, y_test = train.label[train_index], train.label[test_index]\n",
    "\n",
    "        # X_train = np.array(X_train).reshape(-1, 1)\n",
    "        # us = RandomUnderSampler(random_state=21)\n",
    "        # os = RandomOverSampler(random_state=21)\n",
    "        # X_train, y_train = os.fit_resample(X_train, y_train)\n",
    "        # X_train = X_train.flatten()\n",
    "\n",
    "        X = cvc.fit_transform(list(X_train) + list(X_test))\n",
    "        # X = log_entropy_weight(X)\n",
    "\n",
    "        model.fit(X[:len(X_train)], y_train)\n",
    "        res = model.predict(X[len(X_train):])\n",
    "        acc.append(accuracy_score(res, y_test))\n",
    "        f1.append(f1_score(res, y_test, average='weighted'))\n",
    "\n",
    "print(\"Acc:\", acc)\n",
    "print(\"F1: \", f1)"
   ]
  }
 ],
 "metadata": {
  "language_info": {
   "name": "python"
  }
 },
 "nbformat": 4,
 "nbformat_minor": 2
}
