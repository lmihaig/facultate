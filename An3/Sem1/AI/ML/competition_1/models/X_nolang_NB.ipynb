{
    "cells": [
        {
            "cell_type": "code",
            "execution_count": 1,
            "metadata": {},
            "outputs": [],
            "source": [
                "import numpy as np\n",
                "import pandas as pd\n",
                "from sklearn.model_selection import KFold\n",
                "from sklearn.metrics import accuracy_score, f1_score\n",
                "from sklearn.feature_extraction.text import CountVectorizer\n",
                "import advertools as adv\n",
                "from matplotlib import pyplot as plt\n",
                "from sklearn.metrics import confusion_matrix\n",
                "from sklearn.naive_bayes import ComplementNB\n",
                "import seaborn as sns"
            ]
        },
        {
            "cell_type": "code",
            "execution_count": 2,
            "metadata": {},
            "outputs": [],
            "source": [
                "langs = [\"nl\", \"da\", \"de\", \"it\", \"es\", ]\n",
                "\n",
                "model = ComplementNB()\n",
                "\n",
                "stop_words = []\n",
                "for key in [\"danish\", \"german\", \"dutch\", \"italian\", \"spanish\"]:\n",
                "    stop_words += list(adv.stopwords[key])\n",
                "\n",
                "cvc = CountVectorizer(stop_words=stop_words)\n",
                "\n",
                "ans = pd.DataFrame()\n",
                "\n",
                "\n",
                "def simpleModel(X_train, y_train, X_test):\n",
                "    print(f\"Train size: {len(X_train)}, Test size: {len(X_test)}\")\n",
                "    X = cvc.fit_transform(list(X_train) + list(X_test))\n",
                "    model.fit(X[:len(X_train)], y_train)\n",
                "    res = model.predict(X[len(X_train):])\n",
                "    return res\n"
            ]
        },
        {
            "cell_type": "code",
            "execution_count": 3,
            "metadata": {},
            "outputs": [
                {
                    "name": "stdout",
                    "output_type": "stream",
                    "text": [
                        "working on: nl\n",
                        "Train size: 8313, Test size: 2772\n",
                        "working on: da\n",
                        "Train size: 8314, Test size: 2772\n",
                        "working on: de\n",
                        "Train size: 8313, Test size: 2772\n",
                        "working on: it\n",
                        "Train size: 8314, Test size: 2772\n",
                        "working on: es\n",
                        "Train size: 8314, Test size: 2772\n"
                    ]
                }
            ],
            "source": [
                "for language in langs:\n",
                "    print(\"working on:\", language)\n",
                "    train_data = pd.read_csv(f\"../corpus/train/{language}/{language}_plain.csv\")\n",
                "    test_data = pd.read_csv(f\"../corpus/test/{language}/{language}_plain.csv\")\n",
                "\n",
                "    res = simpleModel(train_data.text, train_data.label, test_data.text)\n",
                "\n",
                "    test_data[\"label\"] = res\n",
                "    test_data = test_data.drop(\"text\", axis=1)\n",
                "    ans = pd.concat([ans, test_data])\n",
                "    \n",
                "results = ans.copy()\n"
            ]
        },
        {
            "cell_type": "code",
            "execution_count": 4,
            "metadata": {},
            "outputs": [
                {
                    "name": "stdout",
                    "output_type": "stream",
                    "text": [
                        "   id     label\n",
                        "0   1   England\n",
                        "0   2   Ireland\n",
                        "1   3   Ireland\n",
                        "0   4   England\n",
                        "1   5  Scotland\n"
                    ]
                }
            ],
            "source": [
                "ans[\"index\"] += 1\n",
                "ans = ans.sort_values(by=[\"index\"])\n",
                "ans = ans.rename(columns={\"index\": \"id\"})\n",
                "print(ans.head())\n",
                "ans.to_csv(\"../submissions/nolang_NB\",index=False)"
            ]
        },
        {
            "cell_type": "code",
            "execution_count": 5,
            "metadata": {},
            "outputs": [
                {
                    "name": "stdout",
                    "output_type": "stream",
                    "text": [
                        "working on: nl\n",
                        "Train size: 6650, Test size: 1663\n",
                        "Train size: 6650, Test size: 1663\n",
                        "Train size: 6650, Test size: 1663\n",
                        "Train size: 6651, Test size: 1662\n",
                        "Train size: 6651, Test size: 1662\n",
                        "[0.6464221286831028, 0.6644618159951894, 0.6434155141310884, 0.6425992779783394, 0.644404332129964]\n",
                        "Acc: 0.6482606137835368\n",
                        "[0.6595416924807818, 0.6774207745534138, 0.6624084078424848, 0.6583670830351682, 0.6638163537938165]\n",
                        "F1: 0.664310862341133\n",
                        "working on: da\n",
                        "Train size: 6651, Test size: 1663\n",
                        "Train size: 6651, Test size: 1663\n",
                        "Train size: 6651, Test size: 1663\n",
                        "Train size: 6651, Test size: 1663\n",
                        "Train size: 6652, Test size: 1662\n",
                        "[0.656043295249549, 0.6578472639807577, 0.6470234515935057, 0.6428141912206855, 0.6624548736462094]\n",
                        "Acc: 0.6532366151381415\n",
                        "[0.6737231622772527, 0.6739809981932544, 0.6653848766385819, 0.659170437061748, 0.6794785552906211]\n",
                        "F1: 0.6703476058922917\n",
                        "working on: de\n",
                        "Train size: 6650, Test size: 1663\n",
                        "Train size: 6650, Test size: 1663\n",
                        "Train size: 6650, Test size: 1663\n",
                        "Train size: 6651, Test size: 1662\n",
                        "Train size: 6651, Test size: 1662\n",
                        "[0.6380036079374625, 0.6644618159951894, 0.6458208057727, 0.6468110709987966, 0.6552346570397112]\n",
                        "Acc: 0.650066391548772\n",
                        "[0.6541270508214693, 0.6798730957294368, 0.66743795490172, 0.6627705465040773, 0.6752544469763984]\n",
                        "F1: 0.6678926189866203\n",
                        "working on: it\n",
                        "Train size: 6651, Test size: 1663\n",
                        "Train size: 6651, Test size: 1663\n",
                        "Train size: 6651, Test size: 1663\n",
                        "Train size: 6651, Test size: 1663\n",
                        "Train size: 6652, Test size: 1662\n",
                        "[0.650631389055923, 0.639807576668671, 0.629585087191822, 0.6392062537582682, 0.6492178098676293]\n",
                        "Acc: 0.6416896233084627\n",
                        "[0.6662604234478083, 0.6556277157026109, 0.6463580847039316, 0.6545061480843009, 0.6658768567397159]\n",
                        "F1: 0.6577258457356735\n",
                        "working on: es\n",
                        "Train size: 6651, Test size: 1663\n",
                        "Train size: 6651, Test size: 1663\n",
                        "Train size: 6651, Test size: 1663\n",
                        "Train size: 6651, Test size: 1663\n",
                        "Train size: 6652, Test size: 1662\n",
                        "[0.6518340348767288, 0.645219482862297, 0.6361996392062538, 0.6428141912206855, 0.6558363417569194]\n",
                        "Acc: 0.646380737984577\n",
                        "[0.6657380716568455, 0.6577766603102764, 0.6492530098240552, 0.6569402819504275, 0.670191618983768]\n",
                        "F1: 0.6599799285450745\n",
                        "\n",
                        "Overall Acc: 0.6479267963526979\n",
                        "Overall F1: 0.6640513723001585\n"
                    ]
                }
            ],
            "source": [
                "kfold = KFold(n_splits=5, shuffle=True, random_state=21)\n",
                "\n",
                "results = []\n",
                "actual = []\n",
                "overall_acc = []\n",
                "overall_f1 = []\n",
                "for language in langs:\n",
                "    print(\"working on:\", language)\n",
                "    train = pd.read_csv(f\"../corpus/train/{language}/{language}_plain.csv\")\n",
                "    acc = []\n",
                "    f1 = []\n",
                "    for train_index, test_index in kfold.split(train):\n",
                "        X_train, X_test = train.text[train_index], train.text[test_index]\n",
                "        y_train, y_test = list(train.label[train_index]), list(train.label[test_index])\n",
                "\n",
                "        res = simpleModel(X_train, y_train, X_test)\n",
                "\n",
                "        acc.append(accuracy_score(res, y_test))\n",
                "        f1.append(f1_score(res, y_test, average=\"weighted\"))\n",
                "        results.extend(res)\n",
                "        actual.extend(y_test)\n",
                "\n",
                "    overall_acc.extend(acc)\n",
                "    overall_f1.extend(f1)\n",
                "\n",
                "    print(acc)\n",
                "    print(\"Acc:\", np.array(acc).mean())\n",
                "    print(f1)\n",
                "    print(\"F1:\", np.array(f1).mean())\n",
                "\n",
                "print(\"\\nOverall Acc:\", np.array(overall_acc).mean())\n",
                "print(\"Overall F1:\", np.array(overall_f1).mean())\n"
            ]
        },
        {
            "cell_type": "code",
            "execution_count": 9,
            "metadata": {},
            "outputs": [
                {
                    "data": {
                        "image/png": "[encoded data removed]",
                        "text/plain": [
                            "<Figure size 640x480 with 2 Axes>"
                        ]
                    },
                    "metadata": {},
                    "output_type": "display_data"
                }
            ],
            "source": [
                "label_vals = [\"England\", \"Ireland\", \"Scotland\"]\n",
                "conf_mat = confusion_matrix(actual, results)\n",
                "sns.heatmap(conf_mat, annot=True, fmt='d',\n",
                "            xticklabels=label_vals, yticklabels=label_vals)\n",
                "plt.ylabel('Actual')\n",
                "plt.xlabel('Predicted')\n",
                "plt.show()\n"
            ]
        }
    ],
    "metadata": {
        "kernelspec": {
            "display_name": "Python 3.10.2 64-bit",
            "language": "python",
            "name": "python3"
        },
        "language_info": {
            "codemirror_mode": {
                "name": "ipython",
                "version": 3
            },
            "file_extension": ".py",
            "mimetype": "text/x-python",
            "name": "python",
            "nbconvert_exporter": "python",
            "pygments_lexer": "ipython3",
            "version": "3.10.2"
        },
        "orig_nbformat": 4,
        "vscode": {
            "interpreter": {
                "hash": "26de051ba29f2982a8de78e945f0abaf191376122a1563185a90213a26c5da77"
            }
        }
    },
    "nbformat": 4,
    "nbformat_minor": 2
}
