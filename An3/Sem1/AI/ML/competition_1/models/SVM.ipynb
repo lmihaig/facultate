{
    "cells": [
        {
            "cell_type": "code",
            "execution_count": 35,
            "metadata": {},
            "outputs": [],
            "source": [
                "import numpy as np\n",
                "import pprint\n",
                "import pandas as pd\n",
                "from sklearn.svm import LinearSVC\n",
                "from sklearn.model_selection import KFold\n",
                "from sklearn.metrics import accuracy_score, f1_score\n",
                "from sklearn.feature_extraction.text import TfidfVectorizer\n",
                "import advertools as adv\n",
                "from matplotlib import pyplot as plt\n",
                "from sklearn.metrics import confusion_matrix\n",
                "from sklearn.svm import LinearSVC\n",
                "import seaborn as sns"
            ]
        },
        {
            "cell_type": "code",
            "execution_count": 36,
            "metadata": {},
            "outputs": [],
            "source": [
                "langs = [\"nl\", \"da\", \"de\", \"it\", \"es\", ]\n",
                "\n",
                "model = LinearSVC(max_iter=5000, random_state=21, C=1,  penalty=\"l1\", dual=False, class_weight=\"balanced\")\n",
                "\n",
                "stop_words = []\n",
                "for key in [\"danish\", \"german\", \"dutch\", \"italian\", \"spanish\"]:\n",
                "    stop_words += list(adv.stopwords[key])\n",
                "\n",
                "tfidf = TfidfVectorizer(sublinear_tf=True, encoding='latin-1', ngram_range=(2, 3))\n",
                "\n",
                "ans = pd.DataFrame()\n",
                "\n",
                "\n",
                "def simpleModel(X_train, y_train, X_test):\n",
                "    print(f\"Train size: {len(X_train)}, Test size: {len(X_test)}\")\n",
                "    X = tfidf.fit_transform(list(X_train) + list(X_test))\n",
                "    model.fit(X[:len(X_train)], y_train)\n",
                "    res = model.predict(X[len(X_train):])\n",
                "    return res\n"
            ]
        },
        {
            "cell_type": "code",
            "execution_count": 37,
            "metadata": {},
            "outputs": [
                {
                    "name": "stdout",
                    "output_type": "stream",
                    "text": [
                        "working on: nl\n",
                        "Train size: 8313, Test size: 2772\n",
                        "working on: da\n",
                        "Train size: 8314, Test size: 2772\n",
                        "working on: de\n",
                        "Train size: 8313, Test size: 2772\n",
                        "working on: it\n",
                        "Train size: 8314, Test size: 2772\n",
                        "working on: es\n",
                        "Train size: 8314, Test size: 2772\n"
                    ]
                }
            ],
            "source": [
                "for language in langs:\n",
                "    print(\"working on:\", language)\n",
                "    train_data = pd.read_csv(f\"../corpus/train/{language}/{language}_plain.csv\")\n",
                "    test_data = pd.read_csv(f\"../corpus/test/{language}/{language}_plain.csv\")\n",
                "\n",
                "    res = simpleModel(train_data.text, train_data.label, test_data.text)\n",
                "\n",
                "    test_data[\"label\"] = res\n",
                "    test_data = test_data.drop(\"text\", axis=1)\n",
                "    ans = pd.concat([ans, test_data])\n",
                "    \n",
                "results = ans.copy()\n"
            ]
        },
        {
            "cell_type": "code",
            "execution_count": 38,
            "metadata": {},
            "outputs": [
                {
                    "name": "stdout",
                    "output_type": "stream",
                    "text": [
                        "   id     label\n",
                        "0   1   England\n",
                        "0   2   England\n",
                        "1   3   England\n",
                        "0   4   England\n",
                        "1   5  Scotland\n"
                    ]
                }
            ],
            "source": [
                "ans[\"index\"] += 1\n",
                "ans = ans.sort_values(by=[\"index\"])\n",
                "ans = ans.rename(columns={\"index\": \"id\"})\n",
                "print(ans.head())\n",
                "ans.to_csv(\"../submissions/SVM.csv\",index=False)"
            ]
        },
        {
            "cell_type": "code",
            "execution_count": 39,
            "metadata": {},
            "outputs": [
                {
                    "name": "stdout",
                    "output_type": "stream",
                    "text": [
                        "working on: nl\n",
                        "Train size: 6650, Test size: 1663\n",
                        "Train size: 6650, Test size: 1663\n",
                        "Train size: 6650, Test size: 1663\n",
                        "Train size: 6651, Test size: 1662\n",
                        "Train size: 6651, Test size: 1662\n",
                        "[0.666867107636801, 0.6873120865904991, 0.671677690920024, 0.6847172081829122, 0.694344163658243]\n",
                        "Acc: 0.6809836513976959\n",
                        "[0.6846959131893765, 0.705692766244013, 0.6885424325948608, 0.6993549841547142, 0.7102404391474175]\n",
                        "F1: 0.6977053070660764\n",
                        "working on: da\n",
                        "Train size: 6651, Test size: 1663\n",
                        "Train size: 6651, Test size: 1663\n",
                        "Train size: 6651, Test size: 1663\n",
                        "Train size: 6651, Test size: 1663\n",
                        "Train size: 6652, Test size: 1662\n",
                        "[0.6542393265183404, 0.6458208057727, 0.6289837642814191, 0.6488274203247144, 0.6865222623345367]\n",
                        "Acc: 0.6528787158463422\n",
                        "[0.6706026213553679, 0.6618345079547454, 0.6433324823756479, 0.6659886806138589, 0.6970343076949423]\n",
                        "F1: 0.6677585199989126\n",
                        "working on: de\n",
                        "Train size: 6650, Test size: 1663\n",
                        "Train size: 6650, Test size: 1663\n",
                        "Train size: 6650, Test size: 1663\n",
                        "Train size: 6651, Test size: 1662\n",
                        "Train size: 6651, Test size: 1662\n",
                        "[0.672279013830427, 0.6758869512928443, 0.6620565243535779, 0.6696750902527075, 0.6793020457280385]\n",
                        "Acc: 0.671839925091519\n",
                        "[0.6913174233643397, 0.6953057486326125, 0.6862833135264063, 0.686299797536699, 0.6987731916697428]\n",
                        "F1: 0.6915958949459601\n",
                        "working on: it\n",
                        "Train size: 6651, Test size: 1663\n",
                        "Train size: 6651, Test size: 1663\n",
                        "Train size: 6651, Test size: 1663\n",
                        "Train size: 6651, Test size: 1663\n",
                        "Train size: 6652, Test size: 1662\n",
                        "[0.6686710763680096, 0.6590499098015634, 0.6518340348767288, 0.6488274203247144, 0.6787003610108303]\n",
                        "Acc: 0.6614165604763692\n",
                        "[0.6895358083628436, 0.6769416667805241, 0.6716799792976345, 0.6667652134294059, 0.6929385108018186]\n",
                        "F1: 0.6795722357344454\n",
                        "working on: es\n",
                        "Train size: 6651, Test size: 1663\n",
                        "Train size: 6651, Test size: 1663\n",
                        "Train size: 6651, Test size: 1663\n",
                        "Train size: 6651, Test size: 1663\n",
                        "Train size: 6652, Test size: 1662\n",
                        "[0.6704750450992183, 0.6800962116656645, 0.6831028262176789, 0.6704750450992183, 0.6805054151624549]\n",
                        "Acc: 0.676930908648847\n",
                        "[0.6872396658875867, 0.6908920611143303, 0.69545138768492, 0.6812671562792592, 0.6906355299657095]\n",
                        "F1: 0.6890971601863611\n",
                        "\n",
                        "Overall Acc: 0.6688099522921546\n",
                        "Overall F1: 0.6851458235863512\n"
                    ]
                }
            ],
            "source": [
                "kfold = KFold(n_splits=5, shuffle=True, random_state=21)\n",
                "\n",
                "results = []\n",
                "actual = []\n",
                "overall_acc = []\n",
                "overall_f1 = []\n",
                "for language in langs:\n",
                "    print(\"working on:\", language)\n",
                "    train = pd.read_csv(f\"../corpus/train/{language}/{language}_plain.csv\")\n",
                "    acc = []\n",
                "    f1 = []\n",
                "    for train_index, test_index in kfold.split(train):\n",
                "        X_train, X_test = train.text[train_index], train.text[test_index]\n",
                "        y_train, y_test = list(train.label[train_index]), list(train.label[test_index])\n",
                "\n",
                "        res = simpleModel(X_train, y_train, X_test)\n",
                "\n",
                "        acc.append(accuracy_score(res, y_test))\n",
                "        f1.append(f1_score(res, y_test, average=\"weighted\"))\n",
                "        results.extend(res)\n",
                "        actual.extend(y_test)\n",
                "\n",
                "    overall_acc.extend(acc)\n",
                "    overall_f1.extend(f1)\n",
                "\n",
                "    print(acc)\n",
                "    print(\"Acc:\", np.array(acc).mean())\n",
                "    print(f1)\n",
                "    print(\"F1:\", np.array(f1).mean())\n",
                "\n",
                "print(\"\\nOverall Acc:\", np.array(overall_acc).mean())\n",
                "print(\"Overall F1:\", np.array(overall_f1).mean())\n"
            ]
        },
        {
            "cell_type": "code",
            "execution_count": 40,
            "metadata": {},
            "outputs": [
                {
                    "data": {
                        "image/png": "[encoded data removed]",
                        "text/plain": [
                            "<Figure size 640x480 with 2 Axes>"
                        ]
                    },
                    "metadata": {},
                    "output_type": "display_data"
                }
            ],
            "source": [
                "conf_mat = confusion_matrix(results, actual)\n",
                "sns.heatmap(conf_mat, annot=True, fmt='d',\n",
                "            xticklabels=train.label.unique(), yticklabels=train.label.unique())\n",
                "plt.ylabel('Actual')\n",
                "plt.xlabel('Predicted')\n",
                "plt.show()\n"
            ]
        }
    ],
    "metadata": {
        "kernelspec": {
            "display_name": "Python 3.10.2 64-bit",
            "language": "python",
            "name": "python3"
        },
        "language_info": {
            "codemirror_mode": {
                "name": "ipython",
                "version": 3
            },
            "file_extension": ".py",
            "mimetype": "text/x-python",
            "name": "python",
            "nbconvert_exporter": "python",
            "pygments_lexer": "ipython3",
            "version": "3.10.2"
        },
        "orig_nbformat": 4,
        "vscode": {
            "interpreter": {
                "hash": "26de051ba29f2982a8de78e945f0abaf191376122a1563185a90213a26c5da77"
            }
        }
    },
    "nbformat": 4,
    "nbformat_minor": 2
}
