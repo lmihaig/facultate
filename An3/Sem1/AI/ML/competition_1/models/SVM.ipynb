{
 "cells": [
  {
   "cell_type": "code",
   "execution_count": null,
   "metadata": {},
   "outputs": [],
   "source": [
    "import numpy as np\n",
    "import pprint\n",
    "import pandas as pd\n",
    "from sklearn.svm import LinearSVC\n",
    "from sklearn.model_selection import KFold\n",
    "from sklearn.metrics import accuracy_score, f1_score\n",
    "from sklearn.feature_extraction.text import TfidfVectorizer\n",
    "import advertools as adv\n",
    "from matplotlib import pyplot as plt\n",
    "from sklearn.metrics import confusion_matrix\n",
    "from sklearn.svm import LinearSVC\n",
    "import seaborn as sns"
   ]
  },
  {
   "cell_type": "code",
   "execution_count": null,
   "metadata": {},
   "outputs": [],
   "source": [
    "langs = [\"nl\", \"da\", \"de\", \"it\", \"es\", ]\n",
    "\n",
    "model = LinearSVC(max_iter=5000, random_state=21, C=1,  penalty=\"l1\", dual=False, class_weight=\"balanced\")\n",
    "\n",
    "stop_words = []\n",
    "for key in [\"danish\", \"german\", \"dutch\", \"italian\", \"spanish\"]:\n",
    "    stop_words += list(adv.stopwords[key])\n",
    "\n",
    "tfidf = TfidfVectorizer(sublinear_tf=True, encoding='latin-1', ngram_range=(2, 3))\n",
    "\n",
    "ans = pd.DataFrame()\n",
    "\n",
    "\n",
    "def simpleModel(X_train, y_train, X_test):\n",
    "    print(f\"Train size: {len(X_train)}, Test size: {len(X_test)}\")\n",
    "    X = tfidf.fit_transform(list(X_train) + list(X_test))\n",
    "    model.fit(X[:len(X_train)], y_train)\n",
    "    res = model.predict(X[len(X_train):])\n",
    "    return res\n"
   ]
  },
  {
   "cell_type": "code",
   "execution_count": null,
   "metadata": {},
   "outputs": [],
   "source": [
    "for language in langs:\n",
    "    print(\"working on:\", language)\n",
    "    train_data = pd.read_csv(f\"../corpus/train/{language}/{language}_plain.csv\")\n",
    "    test_data = pd.read_csv(f\"../corpus/test/{language}/{language}_plain.csv\")\n",
    "\n",
    "    res = simpleModel(train_data.text, train_data.label, test_data.text)\n",
    "\n",
    "    test_data[\"label\"] = res\n",
    "    test_data = test_data.drop(\"text\", axis=1)\n",
    "    ans = pd.concat([ans, test_data])\n",
    "    \n",
    "results = ans.copy()\n"
   ]
  },
  {
   "cell_type": "code",
   "execution_count": null,
   "metadata": {},
   "outputs": [],
   "source": [
    "ans[\"index\"] += 1\n",
    "ans = ans.sort_values(by=[\"index\"])\n",
    "ans = ans.rename(columns={\"index\": \"id\"})\n",
    "print(ans.head())\n",
    "ans.to_csv(\"../submissions/SVM.csv\",index=False)"
   ]
  },
  {
   "cell_type": "code",
   "execution_count": null,
   "metadata": {},
   "outputs": [],
   "source": [
    "kfold = KFold(n_splits=5, shuffle=True, random_state=21)\n",
    "\n",
    "results = []\n",
    "actual = []\n",
    "overall_acc = []\n",
    "overall_f1 = []\n",
    "for language in langs:\n",
    "    print(\"working on:\", language)\n",
    "    train = pd.read_csv(f\"../corpus/train/{language}/{language}_plain.csv\")\n",
    "    acc = []\n",
    "    f1 = []\n",
    "    for train_index, test_index in kfold.split(train):\n",
    "        X_train, X_test = train.text[train_index], train.text[test_index]\n",
    "        y_train, y_test = list(train.label[train_index]), list(train.label[test_index])\n",
    "\n",
    "        res = simpleModel(X_train, y_train, X_test)\n",
    "\n",
    "        acc.append(accuracy_score(res, y_test))\n",
    "        f1.append(f1_score(res, y_test, average=\"weighted\"))\n",
    "        results.extend(res)\n",
    "        actual.extend(y_test)\n",
    "\n",
    "    overall_acc.extend(acc)\n",
    "    overall_f1.extend(f1)\n",
    "\n",
    "    print(acc)\n",
    "    print(\"Acc:\", np.array(acc).mean())\n",
    "    print(f1)\n",
    "    print(\"F1:\", np.array(f1).mean())\n",
    "\n",
    "print(\"\\nOverall Acc:\", np.array(overall_acc).mean())\n",
    "print(\"Overall F1:\", np.array(overall_f1).mean())\n"
   ]
  },
  {
   "cell_type": "code",
   "execution_count": null,
   "metadata": {},
   "outputs": [],
   "source": [
    "conf_mat = confusion_matrix(results, actual)\n",
    "sns.heatmap(conf_mat, annot=True, fmt='d',\n",
    "            xticklabels=train.label.unique(), yticklabels=train.label.unique())\n",
    "plt.ylabel('Actual')\n",
    "plt.xlabel('Predicted')\n",
    "plt.show()\n"
   ]
  }
 ],
 "metadata": {
  "language_info": {
   "name": "python"
  }
 },
 "nbformat": 4,
 "nbformat_minor": 2
}
