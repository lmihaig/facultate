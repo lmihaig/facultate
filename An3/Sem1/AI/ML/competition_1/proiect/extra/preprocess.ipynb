{
 "cells": [
  {
   "cell_type": "markdown",
   "metadata": {},
   "source": [
    "```python\n",
    "python -m spacy download nl_core_news_lg\n",
    "python -m spacy download da_core_news_lg\n",
    "python -m spacy download de_core_news_lg\n",
    "python -m spacy download it_core_news_lg\n",
    "python -m spacy download es_core_news_lg\n",
    "```"
   ]
  },
  {
   "cell_type": "code",
   "execution_count": null,
   "metadata": {},
   "outputs": [],
   "source": [
    "import pandas as pd\n",
    "import langdetect\n",
    "import spacy\n",
    "import numpy as np"
   ]
  },
  {
   "cell_type": "code",
   "execution_count": null,
   "metadata": {},
   "outputs": [],
   "source": [
    "def preprocess(data):\n",
    "    data.text.replace(r'\\s+|\\\\n', ' ', regex=True, inplace=True)\n",
    "    data.text = data.text.str.strip(\" -.,\")\n",
    "    # data.text = data.text.str.lower()\n",
    "    data.text.replace(r'\\n', '', regex=True, inplace=True)\n",
    "    data.text.replace('', np.nan, regex=True, inplace=True)\n",
    "    data.dropna(inplace=True)\n",
    "    return data\n",
    "\n",
    "train_data = pd.read_csv(\"data/train_data.csv\")\n",
    "train_data = preprocess(train_data)\n",
    "train_data.reset_index(inplace=True)\n",
    "\n",
    "test_data = pd.read_csv(\"data/test_data.csv\")\n",
    "test_data = preprocess(test_data)\n",
    "test_data.reset_index(inplace=True)\n"
   ]
  },
  {
   "cell_type": "code",
   "execution_count": null,
   "metadata": {},
   "outputs": [],
   "source": [
    "language_mapping = {\"Deutsch\": \"de\", \"Nederlands\": \"nl\", \"dansk\": \"da\", \"español\": \"es\", \"italiano\":\"it\"}\n",
    "train_data.replace(language_mapping, inplace=True)\n",
    "\n",
    "for lang in language_mapping.values():\n",
    "    train_data.loc[train_data.language == lang][[\"index\", \"text\", \"label\"]].to_csv(f\"corpus/train/{lang}/{lang}_plain.csv\", index=False)"
   ]
  },
  {
   "cell_type": "code",
   "execution_count": null,
   "metadata": {},
   "outputs": [],
   "source": [
    "langdetect.DetectorFactory.seed = 21\n",
    "def language_detector(row):\n",
    "    try:\n",
    "        langs = langdetect.detect_langs(row[\"text\"])\n",
    "        for lang in langs:\n",
    "            lang = lang.lang\n",
    "            if lang == \"no\" or lang == \"hr\":\n",
    "                lang = \"da\"\n",
    "            elif lang == \"af\":\n",
    "                lang = \"nl\"\n",
    "                \n",
    "            if lang in language_mapping.values():\n",
    "                return lang\n",
    "            else:\n",
    "                print(\"Language?:\" ,lang)\n",
    "                print(row)\n",
    "                return \"da\"\n",
    "    except:\n",
    "        print(row)\n",
    "        return \"da\"\n",
    "\n",
    "test_data[\"language\"] = test_data.apply(lambda row: language_detector(row), axis=1)"
   ]
  },
  {
   "cell_type": "code",
   "execution_count": null,
   "metadata": {},
   "outputs": [],
   "source": [
    "for lang in language_mapping.values():\n",
    "    test_data.loc[test_data.language == lang][[\"index\", \"text\"]].to_csv(f\"corpus/test/{lang}/{lang}_plain.csv\", index=False)"
   ]
  },
  {
   "cell_type": "code",
   "execution_count": null,
   "metadata": {},
   "outputs": [],
   "source": [
    "train_data.to_csv(f\"corpus/nolang_dif/train_data.csv\", index=False)\n",
    "test_data.to_csv(f\"corpus/nolang_dif/test_data.csv\", index=False)"
   ]
  },
  {
   "cell_type": "code",
   "execution_count": null,
   "metadata": {},
   "outputs": [],
   "source": [
    "spacy_packages = {\"nl\": \"nl_core_news_lg\",\n",
    "\"da\": \"da_core_news_lg\",\n",
    "\"de\": \"de_core_news_lg\",\n",
    "\"it\": \"it_core_news_lg\",\n",
    "\"es\": \"es_core_news_lg\",}\n",
    "\n",
    "def noent(nlp, row):\n",
    "    try:\n",
    "        doc = nlp(row)\n",
    "        sentence = \" SENTSEP \".join([\" \".join([t.text if t.ent_type == 0 else t.ent_type_ for t in d]) for d in doc.sents])\n",
    "        return sentence\n",
    "    except:\n",
    "        print(row)\n",
    "\n",
    "def make_noent(df, nlp, path):\n",
    "    df[\"text\"] = df.text.apply(lambda row: noent(nlp, row))\n",
    "    df.to_csv(path+\"_noent.csv\", index=False)\n",
    "\n",
    "\n",
    "def pos(nlp, row):\n",
    "    try:\n",
    "        doc = nlp(row)\n",
    "        sentence = \" SENTSEP \".join([\" \".join([t.pos_ for t in d]) for d in doc.sents])\n",
    "        return sentence\n",
    "    except:\n",
    "        print(row)\n",
    "\n",
    "def make_pos(df, nlp, path):\n",
    "    df[\"text\"] = df.text.apply(lambda row: pos(nlp, row))\n",
    "    df.to_csv(path+\"_pos.csv\", index=False)\n"
   ]
  },
  {
   "cell_type": "code",
   "execution_count": null,
   "metadata": {},
   "outputs": [],
   "source": [
    "for language, spacy_pack in spacy_packages.items():\n",
    "    train_data = pd.read_csv(f\"corpus/train/{language}/{language}_plain.csv\")\n",
    "    test_data = pd.read_csv(f\"corpus/test/{language}/{language}_plain.csv\")\n",
    "\n",
    "    nlp = spacy.load(spacy_pack)\n",
    "\n",
    "    print(f\"ready to work '{language}'\")\n",
    "    make_noent(train_data.copy(), nlp, f\"corpus/train/{language}/{language}\")\n",
    "    make_noent(test_data.copy(), nlp,  f\"corpus/test/{language}/{language}\")\n",
    "    \n",
    "    print(\"work work\")\n",
    "    make_pos(train_data.copy(), nlp, f\"corpus/train/{language}/{language}\")\n",
    "    make_pos(test_data.copy(), nlp, f\"corpus/test/{language}/{language}\")\n"
   ]
  }
 ],
 "metadata": {
  "language_info": {
   "name": "python"
  }
 },
 "nbformat": 4,
 "nbformat_minor": 2
}
