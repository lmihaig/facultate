{
 "cells": [
  {
   "cell_type": "markdown",
   "metadata": {
    "id": "P__Db8icaB41"
   },
   "source": [
    "Importuri necesare"
   ]
  },
  {
   "cell_type": "code",
   "execution_count": 170,
   "metadata": {
    "id": "o_XpJRpOTAtf"
   },
   "outputs": [],
   "source": [
    "import numpy as np\n",
    "import matplotlib.pyplot as plt\n",
    "import math"
   ]
  },
  {
   "cell_type": "markdown",
   "metadata": {
    "id": "RLVbkkLUaMNp"
   },
   "source": [
    "Director date"
   ]
  },
  {
   "cell_type": "code",
   "execution_count": 171,
   "metadata": {
    "id": "_I16vNNHaLH4"
   },
   "outputs": [],
   "source": [
    "dirPath = \"../Lab3/data/\""
   ]
  },
  {
   "cell_type": "markdown",
   "metadata": {
    "id": "a3fTgW5naUFc"
   },
   "source": [
    "Citire date si etichete train"
   ]
  },
  {
   "cell_type": "code",
   "execution_count": 172,
   "metadata": {
    "colab": {
     "base_uri": "https://localhost:8080/"
    },
    "id": "e9LXisWcU0Vr",
    "outputId": "48aa3163-15c4-4aad-e644-3451a78f5879"
   },
   "outputs": [
    {
     "name": "stdout",
     "output_type": "stream",
     "text": [
      "(1000, 784)\n",
      "2\n",
      "<class 'numpy.float64'>\n",
      "784000\n",
      "6272000\n"
     ]
    }
   ],
   "source": [
    "train_images = np.loadtxt(dirPath + \"train_images.txt\")\n",
    "print(train_images.shape)\n",
    "print(train_images.ndim)\n",
    "print(type(train_images[0,0]))\n",
    "print(train_images.size)\n",
    "print(train_images.nbytes)"
   ]
  },
  {
   "cell_type": "code",
   "execution_count": 173,
   "metadata": {
    "colab": {
     "base_uri": "https://localhost:8080/",
     "height": 1000
    },
    "id": "-ClRHlP9VBNh",
    "outputId": "e73b5aaf-921e-4173-cf5b-24486d6a2af4"
   },
   "outputs": [
    {
     "name": "stdout",
     "output_type": "stream",
     "text": [
      "[[  0.   0.   0.   0.   0.   0.   0.   0.   0.   0.   0.   0.   0.   0.\n",
      "    0.   0.   0.   0.   0.   0.   0.   0.   0.   0.   0.   0.   0.   0.]\n",
      " [  0.   0.   0.   0.   0.   0.   0.   0.   0.   0.   0.   0.   0.   0.\n",
      "    0.   0.   0.   0.   0.   0.   0.   0.   0.   0.   0.   0.   0.   0.]\n",
      " [  0.   0.   0.   0.   0.   0.   0.   0.   0.   0.   0.   0.   0.   0.\n",
      "    0.   0.   0.   0.   0.   0.   0.   0.   0.   0.   0.   0.   0.   0.]\n",
      " [  0.   0.   0.   0.   0.   0.   0.   0.   0.   0.   0.   0.   0.   0.\n",
      "    0.   0.   0.   0.   0.   0.   0.   0.   0.   0.   0.   0.   0.   0.]\n",
      " [  0.   0.   0.   0.   0.   0.   0.   0.   0.   0.   0.   0.   0.   0.\n",
      "    0.   0.   0.   0.   0.   0.   0.   0.   0.   0.   0.   0.   0.   0.]\n",
      " [  0.   0.   0.   0.   0.   0.   0.   0.   0.   0.   5.   5.   0.   0.\n",
      "    0.   0.   0.   0.   0.   0. 110. 255. 197.   3.   0.   0.   0.   0.]\n",
      " [  0.   0.   0.   0.   0.   0.   0.   0.   0.  27. 214. 230. 107.   0.\n",
      "    0.   0.   0.   0.   0.   5. 231. 253. 253.  12.   0.   0.   0.   0.]\n",
      " [  0.   0.   0.   0.   0.   0.   0.   0.   0. 161. 253. 253. 229.  48.\n",
      "    0.   0.   0.   0.   0.  51. 242. 253. 253. 199.   0.   0.   0.   0.]\n",
      " [  0.   0.   0.   0.   0.   0.   0.   0.   4. 170. 253. 253. 253. 191.\n",
      "    0.   0.   0.   0.   0. 112. 253. 253. 253. 241.   0.   0.   0.   0.]\n",
      " [  0.   0.   0.   0.   0.   0.   0.   0.  47. 253. 253. 253. 253. 176.\n",
      "    0.   0.   0.   0.  73. 242. 253. 253. 253. 129.   0.   0.   0.   0.]\n",
      " [  0.   0.   0.   0.   0.   0.   0.  16. 218. 253. 253. 253. 199.  25.\n",
      "    0.   0.   0.   0. 217. 253. 253. 253. 253. 208.   0.   0.   0.   0.]\n",
      " [  0.   0.   0.   0.   0.   0.  25. 126. 253. 253. 253. 223.  61.   0.\n",
      "    0.   0.   0.  79. 241. 253. 253. 253. 253. 232.   0.   0.   0.   0.]\n",
      " [  0.   0.   0.   0.   0.   9. 219. 253. 253. 253. 245.  65.   0.   0.\n",
      "    0.   0. 140. 240. 253. 253. 253. 253. 253. 129.   0.   0.   0.   0.]\n",
      " [  0.   0.   0.   0.   2. 127. 253. 253. 253. 253. 241. 155.  56.  56.\n",
      "   56. 153. 239. 253. 253. 253. 253. 253. 253. 129.   0.   0.   0.   0.]\n",
      " [  0.   0.   0.   0. 128. 253. 253. 253. 253. 253. 253. 253. 253. 253.\n",
      "  253. 253. 253. 253. 253. 253. 253. 253. 253.  38.   0.   0.   0.   0.]\n",
      " [  0.   0.   0.   0. 194. 253. 253. 253. 253. 253. 253. 253. 253. 253.\n",
      "  253. 253. 253. 253. 253. 253. 253. 253. 253. 100.   0.   0.   0.   0.]\n",
      " [  0.   0.   0.   0. 181. 253. 253. 253. 253. 253. 253. 253. 253. 253.\n",
      "  253. 253. 253. 253. 253. 253. 253. 253. 253.  93.   0.   0.   0.   0.]\n",
      " [  0.   0.   0.   0.   2.  55. 172. 172. 182. 241. 172. 172. 172. 192.\n",
      "  253. 253. 253. 253. 224. 172.  61.  49.  49.   1.   0.   0.   0.   0.]\n",
      " [  0.   0.   0.   0.   0.   0.   0.   9. 157.  82.   0.   0.   0.  63.\n",
      "  253. 253. 253. 253.  57.   0.   0.   0.   0.   0.   0.   0.   0.   0.]\n",
      " [  0.   0.   0.   0.   0.   0.   0.   4.  32.   0.   0.   0.   0. 108.\n",
      "  253. 253. 253. 176.  23.   0.   0.   0.   0.   0.   0.   0.   0.   0.]\n",
      " [  0.   0.   0.   0.   0.   0.   0.   0.   0.   0.   0.   0.  50. 245.\n",
      "  253. 253. 222.  26.   0.   0.   0.   0.   0.   0.   0.   0.   0.   0.]\n",
      " [  0.   0.   0.   0.   0.   0.   0.   0.   0.   0.   0.  21. 199. 253.\n",
      "  253. 253.  61.   0.   0.   0.   0.   0.   0.   0.   0.   0.   0.   0.]\n",
      " [  0.   0.   0.   0.   0.   0.   0.   0.   0.   0.   0.  50. 253. 253.\n",
      "  253. 253.  49.   0.   0.   0.   0.   0.   0.   0.   0.   0.   0.   0.]\n",
      " [  0.   0.   0.   0.   0.   0.   0.   0.   0.   0.   0.   3. 183. 253.\n",
      "  253. 219.  26.   0.   0.   0.   0.   0.   0.   0.   0.   0.   0.   0.]\n",
      " [  0.   0.   0.   0.   0.   0.   0.   0.   0.   0.   0.   0. 180. 253.\n",
      "  253. 179.   0.   0.   0.   0.   0.   0.   0.   0.   0.   0.   0.   0.]\n",
      " [  0.   0.   0.   0.   0.   0.   0.   0.   0.   0.   0.   0.   0.   0.\n",
      "    0.   0.   0.   0.   0.   0.   0.   0.   0.   0.   0.   0.   0.   0.]\n",
      " [  0.   0.   0.   0.   0.   0.   0.   0.   0.   0.   0.   0.   0.   0.\n",
      "    0.   0.   0.   0.   0.   0.   0.   0.   0.   0.   0.   0.   0.   0.]\n",
      " [  0.   0.   0.   0.   0.   0.   0.   0.   0.   0.   0.   0.   0.   0.\n",
      "    0.   0.   0.   0.   0.   0.   0.   0.   0.   0.   0.   0.   0.   0.]]\n"
     ]
    },
    {
     "data": {
      "image/png": "[encoded data removed]",
      "text/plain": [
       "<Figure size 640x480 with 1 Axes>"
      ]
     },
     "metadata": {},
     "output_type": "display_data"
    }
   ],
   "source": [
    "image = train_images[0,:]\n",
    "image = np.reshape(image,(28,28))\n",
    "print(image)\n",
    "plt.imshow(image,cmap = \"gray\")\n",
    "plt.show()"
   ]
  },
  {
   "cell_type": "code",
   "execution_count": 174,
   "metadata": {
    "colab": {
     "base_uri": "https://localhost:8080/"
    },
    "id": "syWhLQ6oU9kw",
    "outputId": "403064e8-a5cd-463e-8ee1-ba10ab90ed2a"
   },
   "outputs": [
    {
     "name": "stdout",
     "output_type": "stream",
     "text": [
      "(1000,)\n",
      "<class 'numpy.int8'>\n",
      "1000\n",
      "1000\n",
      "4\n"
     ]
    },
    {
     "name": "stderr",
     "output_type": "stream",
     "text": [
      "C:\\Users\\lmg\\AppData\\Local\\Temp\\ipykernel_4952\\545739475.py:1: DeprecationWarning: loadtxt(): Parsing an integer via a float is deprecated.  To avoid this warning, you can:\n",
      "    * make sure the original data is stored as integers.\n",
      "    * use the `converters=` keyword argument.  If you only use\n",
      "      NumPy 1.23 or later, `converters=float` will normally work.\n",
      "    * Use `np.loadtxt(...).astype(np.int64)` parsing the file as\n",
      "      floating point and then convert it.  (On all NumPy versions.)\n",
      "  (Deprecated NumPy 1.23)\n",
      "  train_labels = np.loadtxt(dirPath + \"train_labels.txt\",'int8')\n"
     ]
    }
   ],
   "source": [
    "train_labels = np.loadtxt(dirPath + \"train_labels.txt\",'int8')\n",
    "print(train_labels.shape)\n",
    "print(type(train_labels[0]))\n",
    "print(train_labels.size)\n",
    "print(train_labels.nbytes)\n",
    "print(train_labels[0])"
   ]
  },
  {
   "cell_type": "code",
   "execution_count": 175,
   "metadata": {
    "colab": {
     "base_uri": "https://localhost:8080/",
     "height": 477
    },
    "id": "FRlbm4lLVLcn",
    "outputId": "65814877-caf3-47f1-f034-c72fa5573016"
   },
   "outputs": [
    {
     "data": {
      "image/png": "[encoded data removed]",
      "text/plain": [
       "<Figure size 500x500 with 100 Axes>"
      ]
     },
     "metadata": {},
     "output_type": "display_data"
    },
    {
     "name": "stdout",
     "output_type": "stream",
     "text": [
      "[[4 8 2 7 9 4 2 1 4 5]\n",
      " [6 3 1 1 3 0 6 6 7 3]\n",
      " [4 4 1 2 2 6 7 4 0 0]\n",
      " [5 4 9 0 2 3 2 7 7 9]\n",
      " [1 9 1 6 8 7 3 5 9 3]\n",
      " [3 7 0 1 3 2 9 8 9 3]\n",
      " [2 9 3 5 8 3 6 6 6 3]\n",
      " [1 1 6 7 7 2 9 1 1 0]\n",
      " [9 1 5 2 9 9 0 0 9 4]\n",
      " [6 2 6 8 5 5 4 6 0 7]]\n"
     ]
    }
   ],
   "source": [
    "nbImages = 10\n",
    "plt.figure(figsize=(5,5))\n",
    "for i in range(nbImages**2):\n",
    "    plt.subplot(nbImages,nbImages,i+1)\n",
    "    plt.axis('off')\n",
    "    plt.imshow(np.reshape(train_images[i,:],(28,28)),cmap = \"gray\")\n",
    "plt.show()\n",
    "labels_nbImages = train_labels[:nbImages**2]\n",
    "print(np.reshape(labels_nbImages,(nbImages,nbImages)))"
   ]
  },
  {
   "cell_type": "markdown",
   "metadata": {
    "id": "kIQYPmUFaXEG"
   },
   "source": [
    "Citire date si etichete test"
   ]
  },
  {
   "cell_type": "code",
   "execution_count": 176,
   "metadata": {
    "colab": {
     "base_uri": "https://localhost:8080/"
    },
    "id": "PHcVoQptV5c7",
    "outputId": "ca4fb72b-e2c3-4af6-c476-4d9ccf7435dc"
   },
   "outputs": [
    {
     "name": "stdout",
     "output_type": "stream",
     "text": [
      "(500, 784)\n",
      "2\n",
      "<class 'numpy.float64'>\n",
      "392000\n",
      "3136000\n"
     ]
    }
   ],
   "source": [
    "test_images = np.loadtxt(dirPath + \"test_images.txt\")\n",
    "print(test_images.shape)\n",
    "print(test_images.ndim)\n",
    "print(type(test_images[0,0]))\n",
    "print(test_images.size)\n",
    "print(test_images.nbytes)"
   ]
  },
  {
   "cell_type": "code",
   "execution_count": 177,
   "metadata": {
    "colab": {
     "base_uri": "https://localhost:8080/"
    },
    "id": "mlBCiNHeZV5n",
    "outputId": "cbe78609-4ae3-4d98-c919-f7fc0fb3c54b"
   },
   "outputs": [
    {
     "name": "stdout",
     "output_type": "stream",
     "text": [
      "(500,)\n",
      "<class 'numpy.int8'>\n",
      "500\n",
      "500\n",
      "2\n"
     ]
    },
    {
     "name": "stderr",
     "output_type": "stream",
     "text": [
      "C:\\Users\\lmg\\AppData\\Local\\Temp\\ipykernel_4952\\443993236.py:1: DeprecationWarning: loadtxt(): Parsing an integer via a float is deprecated.  To avoid this warning, you can:\n",
      "    * make sure the original data is stored as integers.\n",
      "    * use the `converters=` keyword argument.  If you only use\n",
      "      NumPy 1.23 or later, `converters=float` will normally work.\n",
      "    * Use `np.loadtxt(...).astype(np.int64)` parsing the file as\n",
      "      floating point and then convert it.  (On all NumPy versions.)\n",
      "  (Deprecated NumPy 1.23)\n",
      "  test_labels = np.loadtxt(dirPath + \"test_labels.txt\",'int8')\n"
     ]
    }
   ],
   "source": [
    "test_labels = np.loadtxt(dirPath + \"test_labels.txt\",'int8')\n",
    "print(test_labels.shape)\n",
    "print(type(test_labels[0]))\n",
    "print(test_labels.size)\n",
    "print(test_labels.nbytes)\n",
    "print(test_labels[0])"
   ]
  },
  {
   "cell_type": "markdown",
   "metadata": {
    "id": "956iK0qVabd4"
   },
   "source": [
    "Calculul probabilitatilor a_priori P(c=i), i = 0,...,9 din datele de antrenare"
   ]
  },
  {
   "cell_type": "code",
   "execution_count": 178,
   "metadata": {
    "colab": {
     "base_uri": "https://localhost:8080/"
    },
    "id": "4QeN0osOVPKo",
    "outputId": "039a986a-4438-44e3-afac-5f65d7670b39"
   },
   "outputs": [
    {
     "name": "stdout",
     "output_type": "stream",
     "text": [
      "[0.091 0.12  0.096 0.099 0.105 0.083 0.098 0.104 0.101 0.103]\n"
     ]
    }
   ],
   "source": [
    "p_C = np.zeros(10,'uint8')\n",
    "for label in train_labels:\n",
    "    p_C[label] = p_C[label]+1\n",
    "print(p_C/sum(p_C))"
   ]
  },
  {
   "cell_type": "markdown",
   "metadata": {
    "id": "Uw84E6ltahua"
   },
   "source": [
    "np.histogram"
   ]
  },
  {
   "cell_type": "code",
   "execution_count": 179,
   "metadata": {
    "id": "NvpS3CIbVSUI"
   },
   "outputs": [
    {
     "name": "stdout",
     "output_type": "stream",
     "text": [
      "\u001b[1;31mSignature:\u001b[0m\n",
      "\u001b[0mnp\u001b[0m\u001b[1;33m.\u001b[0m\u001b[0mhistogram\u001b[0m\u001b[1;33m(\u001b[0m\u001b[1;33m\n",
      "\u001b[0m    \u001b[0ma\u001b[0m\u001b[1;33m,\u001b[0m\u001b[1;33m\n",
      "\u001b[0m    \u001b[0mbins\u001b[0m\u001b[1;33m=\u001b[0m\u001b[1;36m10\u001b[0m\u001b[1;33m,\u001b[0m\u001b[1;33m\n",
      "\u001b[0m    \u001b[0mrange\u001b[0m\u001b[1;33m=\u001b[0m\u001b[1;32mNone\u001b[0m\u001b[1;33m,\u001b[0m\u001b[1;33m\n",
      "\u001b[0m    \u001b[0mnormed\u001b[0m\u001b[1;33m=\u001b[0m\u001b[1;32mNone\u001b[0m\u001b[1;33m,\u001b[0m\u001b[1;33m\n",
      "\u001b[0m    \u001b[0mweights\u001b[0m\u001b[1;33m=\u001b[0m\u001b[1;32mNone\u001b[0m\u001b[1;33m,\u001b[0m\u001b[1;33m\n",
      "\u001b[0m    \u001b[0mdensity\u001b[0m\u001b[1;33m=\u001b[0m\u001b[1;32mNone\u001b[0m\u001b[1;33m,\u001b[0m\u001b[1;33m\n",
      "\u001b[0m\u001b[1;33m)\u001b[0m\u001b[1;33m\u001b[0m\u001b[1;33m\u001b[0m\u001b[0m\n",
      "\u001b[1;31mDocstring:\u001b[0m\n",
      "Compute the histogram of a dataset.\n",
      "\n",
      "Parameters\n",
      "----------\n",
      "a : array_like\n",
      "    Input data. The histogram is computed over the flattened array.\n",
      "bins : int or sequence of scalars or str, optional\n",
      "    If `bins` is an int, it defines the number of equal-width\n",
      "    bins in the given range (10, by default). If `bins` is a\n",
      "    sequence, it defines a monotonically increasing array of bin edges,\n",
      "    including the rightmost edge, allowing for non-uniform bin widths.\n",
      "\n",
      "    .. versionadded:: 1.11.0\n",
      "\n",
      "    If `bins` is a string, it defines the method used to calculate the\n",
      "    optimal bin width, as defined by `histogram_bin_edges`.\n",
      "\n",
      "range : (float, float), optional\n",
      "    The lower and upper range of the bins.  If not provided, range\n",
      "    is simply ``(a.min(), a.max())``.  Values outside the range are\n",
      "    ignored. The first element of the range must be less than or\n",
      "    equal to the second. `range` affects the automatic bin\n",
      "    computation as well. While bin width is computed to be optimal\n",
      "    based on the actual data within `range`, the bin count will fill\n",
      "    the entire range including portions containing no data.\n",
      "normed : bool, optional\n",
      "\n",
      "    .. deprecated:: 1.6.0\n",
      "\n",
      "    This is equivalent to the `density` argument, but produces incorrect\n",
      "    results for unequal bin widths. It should not be used.\n",
      "\n",
      "    .. versionchanged:: 1.15.0\n",
      "        DeprecationWarnings are actually emitted.\n",
      "\n",
      "weights : array_like, optional\n",
      "    An array of weights, of the same shape as `a`.  Each value in\n",
      "    `a` only contributes its associated weight towards the bin count\n",
      "    (instead of 1). If `density` is True, the weights are\n",
      "    normalized, so that the integral of the density over the range\n",
      "    remains 1.\n",
      "density : bool, optional\n",
      "    If ``False``, the result will contain the number of samples in\n",
      "    each bin. If ``True``, the result is the value of the\n",
      "    probability *density* function at the bin, normalized such that\n",
      "    the *integral* over the range is 1. Note that the sum of the\n",
      "    histogram values will not be equal to 1 unless bins of unity\n",
      "    width are chosen; it is not a probability *mass* function.\n",
      "\n",
      "    Overrides the ``normed`` keyword if given.\n",
      "\n",
      "Returns\n",
      "-------\n",
      "hist : array\n",
      "    The values of the histogram. See `density` and `weights` for a\n",
      "    description of the possible semantics.\n",
      "bin_edges : array of dtype float\n",
      "    Return the bin edges ``(length(hist)+1)``.\n",
      "\n",
      "\n",
      "See Also\n",
      "--------\n",
      "histogramdd, bincount, searchsorted, digitize, histogram_bin_edges\n",
      "\n",
      "Notes\n",
      "-----\n",
      "All but the last (righthand-most) bin is half-open.  In other words,\n",
      "if `bins` is::\n",
      "\n",
      "  [1, 2, 3, 4]\n",
      "\n",
      "then the first bin is ``[1, 2)`` (including 1, but excluding 2) and\n",
      "the second ``[2, 3)``.  The last bin, however, is ``[3, 4]``, which\n",
      "*includes* 4.\n",
      "\n",
      "\n",
      "Examples\n",
      "--------\n",
      ">>> np.histogram([1, 2, 1], bins=[0, 1, 2, 3])\n",
      "(array([0, 2, 1]), array([0, 1, 2, 3]))\n",
      ">>> np.histogram(np.arange(4), bins=np.arange(5), density=True)\n",
      "(array([0.25, 0.25, 0.25, 0.25]), array([0, 1, 2, 3, 4]))\n",
      ">>> np.histogram([[1, 2, 1], [1, 0, 1]], bins=[0,1,2,3])\n",
      "(array([1, 4, 1]), array([0, 1, 2, 3]))\n",
      "\n",
      ">>> a = np.arange(5)\n",
      ">>> hist, bin_edges = np.histogram(a, density=True)\n",
      ">>> hist\n",
      "array([0.5, 0. , 0.5, 0. , 0. , 0.5, 0. , 0.5, 0. , 0.5])\n",
      ">>> hist.sum()\n",
      "2.4999999999999996\n",
      ">>> np.sum(hist * np.diff(bin_edges))\n",
      "1.0\n",
      "\n",
      ".. versionadded:: 1.11.0\n",
      "\n",
      "Automated Bin Selection Methods example, using 2 peak random data\n",
      "with 2000 points:\n",
      "\n",
      ">>> import matplotlib.pyplot as plt\n",
      ">>> rng = np.random.RandomState(10)  # deterministic random data\n",
      ">>> a = np.hstack((rng.normal(size=1000),\n",
      "...                rng.normal(loc=5, scale=2, size=1000)))\n",
      ">>> _ = plt.hist(a, bins='auto')  # arguments are passed to np.histogram\n",
      ">>> plt.title(\"Histogram with 'auto' bins\")\n",
      "Text(0.5, 1.0, \"Histogram with 'auto' bins\")\n",
      ">>> plt.show()\n",
      "\u001b[1;31mFile:\u001b[0m      c:\\users\\lmg\\appdata\\roaming\\python\\python310\\site-packages\\numpy\\lib\\histograms.py\n",
      "\u001b[1;31mType:\u001b[0m      function\n"
     ]
    }
   ],
   "source": [
    "get_ipython().run_line_magic('pinfo', 'np.histogram')"
   ]
  },
  {
   "cell_type": "code",
   "execution_count": 180,
   "metadata": {
    "colab": {
     "base_uri": "https://localhost:8080/"
    },
    "id": "SNEgfA--VZZF",
    "outputId": "e9069560-7e1c-4ef9-9671-1e23eb198bb8"
   },
   "outputs": [
    {
     "name": "stdout",
     "output_type": "stream",
     "text": [
      "[  0.  64. 128. 192. 256.]\n",
      "[4 2 1 1]\n"
     ]
    }
   ],
   "source": [
    "dateExemplu = np.array([0, 63, 63, 64, 65, 128, 255, 15])\n",
    "numarIntervale = 4\n",
    "limiteInterval = np.linspace(0,256,numarIntervale+1)\n",
    "print(limiteInterval)\n",
    "histograma, _ = np.histogram(dateExemplu,limiteInterval)\n",
    "print(histograma)"
   ]
  },
  {
   "cell_type": "markdown",
   "metadata": {
    "id": "XYGlRXp9apeO"
   },
   "source": [
    "Calculul P(X_j = x_j|c=i) pentru clasa i =0, pixelul j=370"
   ]
  },
  {
   "cell_type": "code",
   "execution_count": 181,
   "metadata": {
    "colab": {
     "base_uri": "https://localhost:8080/"
    },
    "id": "Z0HbLFGBVi25",
    "outputId": "5b798b46-4bcc-4ca4-8229-f761f2bb5892"
   },
   "outputs": [
    {
     "name": "stdout",
     "output_type": "stream",
     "text": [
      "Imaginile de antrenare care contin clasa 0 au indecsii:\n",
      "[ 15  28  29  33  52  79  86  87  98 113 122 124 141 148 173 176 186 226\n",
      " 230 232 237 244 247 255 258 265 279 283 287 289 296 315 320 322 332 333\n",
      " 335 367 378 383 388 397 400 411 446 461 466 479 482 493 498 509 517 531\n",
      " 544 552 567 569 573 611 640 643 645 660 677 684 689 715 728 732 760 789\n",
      " 800 806 825 828 835 839 875 880 881 882 899 915 919 932 943 963 972 974\n",
      " 981]\n"
     ]
    }
   ],
   "source": [
    "i = 0\n",
    "j = 370\n",
    "index = np.ravel(np.where(train_labels == i))\n",
    "print(\"Imaginile de antrenare care contin clasa \" + str(i) + \" au indecsii:\")\n",
    "print(index)"
   ]
  },
  {
   "cell_type": "code",
   "execution_count": 182,
   "metadata": {
    "colab": {
     "base_uri": "https://localhost:8080/"
    },
    "id": "4Mq6KX9tVrDE",
    "outputId": "6ebde55e-53a9-46e2-a63c-d96d7d82a01d"
   },
   "outputs": [
    {
     "name": "stdout",
     "output_type": "stream",
     "text": [
      "Pixelii de pe pozitia 370 au valorile:\n",
      "[ 25.   0. 120.   0.  86. 253. 243. 218.   0.   0. 253.   0. 252. 229.\n",
      "   0.   0. 252.   0.   0.   0.   0.   0.   0. 250.   0. 242.   0. 253.\n",
      " 254.   0. 254. 252.   0.   0.   0.  55.   0.   0.   0. 250.   0.   0.\n",
      "   0.   0.   0.   0. 254.  11. 255.   0.   0.   0. 254. 252. 253.   0.\n",
      " 255.   0.   0.   0.   0.   0. 103.  32.  63.  61.  37.   0.   0. 166.\n",
      "   0.   0.   0.  84. 253.  25. 253.   0.   0.   0. 182.  95. 156. 225.\n",
      " 191.   0.   0. 112.   0.   0.   0.]\n",
      "Limitele intervalelor sunt: [  0.  64. 128. 192. 256.]\n",
      "Numarul de valori din fiecare interval este: [58  6  4 23]\n",
      "vectorul de probabilitati pentru clasa 0 si pozitia 370 este: [0.63736264 0.06593407 0.04395604 0.25274725]\n"
     ]
    }
   ],
   "source": [
    "valoriPixeli = train_images[index,j]\n",
    "print(\"Pixelii de pe pozitia \" + str(j) + \" au valorile:\")\n",
    "print(valoriPixeli)\n",
    "numarIntervale = 4\n",
    "limiteInterval = np.linspace(0,256,numarIntervale+1)\n",
    "print(\"Limitele intervalelor sunt: \" + str(limiteInterval))\n",
    "histograma,trash = np.histogram(valoriPixeli,limiteInterval)\n",
    "print(\"Numarul de valori din fiecare interval este: \" + str(histograma))\n",
    "M_ij = histograma/sum(histograma) \n",
    "print(\"vectorul de probabilitati pentru clasa \" + str(i) + \" si pozitia \" + str(j) + \" este: \" + str(M_ij))"
   ]
  },
  {
   "cell_type": "markdown",
   "metadata": {
    "id": "nmUQoBBBatDI"
   },
   "source": [
    "np.digitize"
   ]
  },
  {
   "cell_type": "code",
   "execution_count": 183,
   "metadata": {
    "id": "2HRjIdVXZfCd"
   },
   "outputs": [
    {
     "name": "stdout",
     "output_type": "stream",
     "text": [
      "\u001b[1;31mSignature:\u001b[0m \u001b[0mnp\u001b[0m\u001b[1;33m.\u001b[0m\u001b[0mdigitize\u001b[0m\u001b[1;33m(\u001b[0m\u001b[0mx\u001b[0m\u001b[1;33m,\u001b[0m \u001b[0mbins\u001b[0m\u001b[1;33m,\u001b[0m \u001b[0mright\u001b[0m\u001b[1;33m=\u001b[0m\u001b[1;32mFalse\u001b[0m\u001b[1;33m)\u001b[0m\u001b[1;33m\u001b[0m\u001b[1;33m\u001b[0m\u001b[0m\n",
      "\u001b[1;31mDocstring:\u001b[0m\n",
      "Return the indices of the bins to which each value in input array belongs.\n",
      "\n",
      "=========  =============  ============================\n",
      "`right`    order of bins  returned index `i` satisfies\n",
      "=========  =============  ============================\n",
      "``False``  increasing     ``bins[i-1] <= x < bins[i]``\n",
      "``True``   increasing     ``bins[i-1] < x <= bins[i]``\n",
      "``False``  decreasing     ``bins[i-1] > x >= bins[i]``\n",
      "``True``   decreasing     ``bins[i-1] >= x > bins[i]``\n",
      "=========  =============  ============================\n",
      "\n",
      "If values in `x` are beyond the bounds of `bins`, 0 or ``len(bins)`` is\n",
      "returned as appropriate.\n",
      "\n",
      "Parameters\n",
      "----------\n",
      "x : array_like\n",
      "    Input array to be binned. Prior to NumPy 1.10.0, this array had to\n",
      "    be 1-dimensional, but can now have any shape.\n",
      "bins : array_like\n",
      "    Array of bins. It has to be 1-dimensional and monotonic.\n",
      "right : bool, optional\n",
      "    Indicating whether the intervals include the right or the left bin\n",
      "    edge. Default behavior is (right==False) indicating that the interval\n",
      "    does not include the right edge. The left bin end is open in this\n",
      "    case, i.e., bins[i-1] <= x < bins[i] is the default behavior for\n",
      "    monotonically increasing bins.\n",
      "\n",
      "Returns\n",
      "-------\n",
      "indices : ndarray of ints\n",
      "    Output array of indices, of same shape as `x`.\n",
      "\n",
      "Raises\n",
      "------\n",
      "ValueError\n",
      "    If `bins` is not monotonic.\n",
      "TypeError\n",
      "    If the type of the input is complex.\n",
      "\n",
      "See Also\n",
      "--------\n",
      "bincount, histogram, unique, searchsorted\n",
      "\n",
      "Notes\n",
      "-----\n",
      "If values in `x` are such that they fall outside the bin range,\n",
      "attempting to index `bins` with the indices that `digitize` returns\n",
      "will result in an IndexError.\n",
      "\n",
      ".. versionadded:: 1.10.0\n",
      "\n",
      "`np.digitize` is  implemented in terms of `np.searchsorted`. This means\n",
      "that a binary search is used to bin the values, which scales much better\n",
      "for larger number of bins than the previous linear search. It also removes\n",
      "the requirement for the input array to be 1-dimensional.\n",
      "\n",
      "For monotonically _increasing_ `bins`, the following are equivalent::\n",
      "\n",
      "    np.digitize(x, bins, right=True)\n",
      "    np.searchsorted(bins, x, side='left')\n",
      "\n",
      "Note that as the order of the arguments are reversed, the side must be too.\n",
      "The `searchsorted` call is marginally faster, as it does not do any\n",
      "monotonicity checks. Perhaps more importantly, it supports all dtypes.\n",
      "\n",
      "Examples\n",
      "--------\n",
      ">>> x = np.array([0.2, 6.4, 3.0, 1.6])\n",
      ">>> bins = np.array([0.0, 1.0, 2.5, 4.0, 10.0])\n",
      ">>> inds = np.digitize(x, bins)\n",
      ">>> inds\n",
      "array([1, 4, 3, 2])\n",
      ">>> for n in range(x.size):\n",
      "...   print(bins[inds[n]-1], \"<=\", x[n], \"<\", bins[inds[n]])\n",
      "...\n",
      "0.0 <= 0.2 < 1.0\n",
      "4.0 <= 6.4 < 10.0\n",
      "2.5 <= 3.0 < 4.0\n",
      "1.0 <= 1.6 < 2.5\n",
      "\n",
      ">>> x = np.array([1.2, 10.0, 12.4, 15.5, 20.])\n",
      ">>> bins = np.array([0, 5, 10, 15, 20])\n",
      ">>> np.digitize(x,bins,right=True)\n",
      "array([1, 2, 3, 4, 4])\n",
      ">>> np.digitize(x,bins,right=False)\n",
      "array([1, 3, 3, 4, 5])\n",
      "\u001b[1;31mFile:\u001b[0m      c:\\users\\lmg\\appdata\\roaming\\python\\python310\\site-packages\\numpy\\lib\\function_base.py\n",
      "\u001b[1;31mType:\u001b[0m      function\n"
     ]
    }
   ],
   "source": [
    "get_ipython().run_line_magic('pinfo', 'np.digitize')"
   ]
  },
  {
   "cell_type": "code",
   "execution_count": 184,
   "metadata": {
    "colab": {
     "base_uri": "https://localhost:8080/"
    },
    "id": "RI8CeBLvZjH-",
    "outputId": "6fb0731a-183f-429b-9dec-cf4dd76df115"
   },
   "outputs": [
    {
     "name": "stdout",
     "output_type": "stream",
     "text": [
      "[  0.  64. 128. 192. 256.]\n",
      "[1 1 1 3 4 1]\n"
     ]
    }
   ],
   "source": [
    "dateExemplu = np.array([0, 63,63, 128, 255, 15])\n",
    "numarIntervale = 4\n",
    "limiteInterval = np.linspace(0,256,numarIntervale+1)\n",
    "print(limiteInterval)\n",
    "indexInterval = np.digitize(dateExemplu,limiteInterval)\n",
    "print(indexInterval)\n"
   ]
  },
  {
   "cell_type": "code",
   "execution_count": 185,
   "metadata": {},
   "outputs": [
    {
     "name": "stdout",
     "output_type": "stream",
     "text": [
      "[0.63736264 0.06593407 0.04395604 0.25274725]\n"
     ]
    }
   ],
   "source": [
    "M = np.zeros((10,784,4))\n",
    "numarIntervale = 4\n",
    "limiteInterval = np.linspace(0, 256, numarIntervale+1)\n",
    "for i in range(10):\n",
    "    index = np.ravel(np.where(train_labels == i))\n",
    "    for j in range(784):\n",
    "        val_Pixel = train_images[index, j]\n",
    "        histograma, _ = np.histogram(val_Pixel, limiteInterval)\n",
    "        histograma = histograma/sum(histograma)\n",
    "        M[i,j,:] = histograma\n",
    "M += 0.000000001\n",
    "print(M[0,370])"
   ]
  },
  {
   "cell_type": "code",
   "execution_count": 186,
   "metadata": {},
   "outputs": [],
   "source": [
    "def NaiveBayesClassifier(img, M, limiteIntervale, p_C):\n",
    "    prob = np.zeros(10)\n",
    "    for i in range(10):\n",
    "        prob[i] = math.log(p_C[i])\n",
    "        for j in range(784):\n",
    "            interval = np.digitize(img[j], limiteIntervale)\n",
    "            prob[i] += math.log(M[i,j,interval-1])\n",
    "    return np.argmax(prob)"
   ]
  },
  {
   "cell_type": "code",
   "execution_count": 187,
   "metadata": {},
   "outputs": [
    {
     "name": "stdout",
     "output_type": "stream",
     "text": [
      "2\n"
     ]
    }
   ],
   "source": [
    "image = test_images[0,:]\n",
    "print(NaiveBayesClassifier(image, M, limiteInterval , p_C))"
   ]
  },
  {
   "cell_type": "code",
   "execution_count": 188,
   "metadata": {},
   "outputs": [
    {
     "name": "stdout",
     "output_type": "stream",
     "text": [
      "[2. 7. 3. 1. 2. 2. 0. 8. 1. 4. 7. 3. 2. 0. 4. 3. 8. 9. 9. 1. 8. 2. 0. 0.\n",
      " 2. 9. 6. 2. 6. 7. 3. 2. 4. 9. 6. 6. 1. 7. 5. 3. 0. 1. 8. 8. 2. 1. 3. 7.\n",
      " 9. 6. 7. 6. 7. 7. 9. 7. 3. 1. 2. 1. 7. 8. 0. 9. 8. 3. 1. 6. 0. 5. 8. 5.\n",
      " 6. 3. 2. 4. 2. 0. 9. 1. 4. 4. 3. 3. 1. 4. 0. 5. 7. 9. 0. 5. 2. 3. 4. 4.\n",
      " 4. 9. 5. 0. 0. 6. 8. 4. 6. 0. 7. 0. 8. 8. 7. 8. 3. 0. 8. 9. 5. 3. 5. 7.\n",
      " 3. 9. 9. 4. 8. 9. 3. 0. 6. 1. 0. 9. 2. 6. 6. 3. 7. 0. 2. 8. 7. 0. 4. 2.\n",
      " 1. 3. 6. 5. 5. 3. 9. 3. 0. 0. 3. 6. 3. 2. 0. 1. 6. 4. 3. 2. 4. 2. 4. 4.\n",
      " 7. 8. 5. 3. 7. 4. 2. 8. 0. 0. 0. 3. 1. 6. 6. 2. 5. 2. 9. 2. 4. 3. 5. 2.\n",
      " 7. 0. 0. 3. 7. 8. 6. 7. 8. 9. 0. 2. 3. 2. 8. 2. 4. 7. 8. 9. 4. 4. 8. 0.\n",
      " 7. 6. 3. 9. 2. 5. 6. 0. 1. 4. 6. 0. 2. 5. 9. 5. 8. 4. 1. 4. 6. 3. 6. 9.\n",
      " 4. 9. 3. 2. 4. 2. 3. 8. 3. 8. 8. 4. 1. 0. 4. 8. 8. 9. 3. 4. 4. 5. 4. 0.\n",
      " 1. 7. 7. 4. 5. 0. 1. 3. 7. 8. 6. 7. 2. 1. 2. 8. 9. 6. 8. 4. 6. 9. 0. 5.\n",
      " 3. 3. 5. 6. 6. 5. 5. 2. 4. 6. 6. 1. 1. 7. 0. 8. 5. 3. 2. 1. 2. 0. 8. 5.\n",
      " 0. 1. 1. 6. 9. 3. 4. 2. 7. 0. 3. 8. 4. 1. 9. 2. 4. 2. 0. 8. 6. 1. 3. 9.\n",
      " 4. 0. 6. 4. 6. 7. 1. 3. 1. 3. 2. 5. 5. 3. 2. 9. 1. 6. 6. 8. 4. 4. 1. 3.\n",
      " 9. 0. 5. 4. 5. 4. 1. 5. 1. 2. 4. 2. 6. 2. 2. 3. 4. 4. 4. 1. 3. 7. 6. 5.\n",
      " 7. 9. 3. 0. 8. 4. 9. 4. 9. 6. 2. 2. 1. 5. 6. 6. 4. 9. 7. 3. 5. 8. 8. 1.\n",
      " 3. 5. 5. 6. 5. 9. 0. 0. 9. 2. 2. 9. 2. 7. 3. 9. 7. 2. 0. 9. 7. 0. 3. 1.\n",
      " 7. 8. 4. 2. 2. 7. 3. 3. 2. 9. 3. 2. 3. 0. 9. 9. 4. 3. 4. 5. 1. 1. 2. 2.\n",
      " 4. 9. 6. 6. 0. 1. 2. 1. 6. 1. 9. 6. 1. 1. 4. 3. 1. 1. 6. 8. 7. 8. 5. 1.\n",
      " 9. 8. 6. 7. 3. 3. 0. 6. 0. 3. 5. 1. 3. 7. 9. 3. 3. 8. 6. 5.]\n"
     ]
    }
   ],
   "source": [
    "predicted_labels = np.zeros(500)\n",
    "for i in range(500):\n",
    "    img = test_images[i,:]\n",
    "    predicted_labels[i] = NaiveBayesClassifier(img, M, limiteInterval, p_C)\n",
    "print(predicted_labels)\n"
   ]
  },
  {
   "cell_type": "code",
   "execution_count": 189,
   "metadata": {},
   "outputs": [
    {
     "name": "stdout",
     "output_type": "stream",
     "text": [
      "0.808\n",
      "[[48  0  1  0  0  1  2  0  1  0]\n",
      " [ 0 48  0  1  0  1  0  0  1  1]\n",
      " [ 1  0 49  3  2  0  0  1  2  0]\n",
      " [ 0  0  1 46  0  2  1  0  0  3]\n",
      " [ 0  0  0  0 38  0  0  0  3  5]\n",
      " [ 1  0  3  8  1 32  1  0  6  0]\n",
      " [ 1  0  0  0  0  1 46  0  0  0]\n",
      " [ 0  0  1  0  3  0  0 38  1  7]\n",
      " [ 0  1  2  5  3  2  1  0 30  2]\n",
      " [ 0  0  1  1  9  0  0  2  0 29]]\n"
     ]
    }
   ],
   "source": [
    "from sklearn.metrics import accuracy_score, confusion_matrix\n",
    "\n",
    "print(accuracy_score(test_labels, predicted_labels))\n",
    "\n",
    "print(confusion_matrix(test_labels, predicted_labels))\n"
   ]
  },
  {
   "cell_type": "code",
   "execution_count": 197,
   "metadata": {},
   "outputs": [
    {
     "name": "stdout",
     "output_type": "stream",
     "text": [
      "0.846\n",
      "[[51  0  0  0  0  0  1  0  1  0]\n",
      " [ 0 48  0  0  0  0  0  0  4  0]\n",
      " [ 2  0 51  1  1  0  0  1  1  1]\n",
      " [ 0  0  1 49  0  0  0  0  0  3]\n",
      " [ 0  0  0  0 34  0  0  0  2 10]\n",
      " [ 1  0  0  9  0 35  1  1  5  0]\n",
      " [ 1  0  0  0  1  0 44  0  2  0]\n",
      " [ 0  1  0  0  1  0  0 42  0  6]\n",
      " [ 0  1  3  3  1  1  1  1 34  1]\n",
      " [ 0  0  1  1  5  0  0  0  0 35]]\n"
     ]
    }
   ],
   "source": [
    "from sklearn.naive_bayes import MultinomialNB\n",
    "\n",
    "clf = MultinomialNB()\n",
    "clf.fit(train_images, train_labels)\n",
    "\n",
    "predicted_labels_2 = clf.predict(test_images)\n",
    "print(accuracy_score(test_labels, predicted_labels_2))\n",
    "print(confusion_matrix(test_labels, predicted_labels_2))\n"
   ]
  }
 ],
 "metadata": {
  "colab": {
   "name": "Laborator 4.ipynb",
   "provenance": []
  },
  "kernelspec": {
   "display_name": "Python 3.10.2 64-bit",
   "language": "python",
   "name": "python3"
  },
  "language_info": {
   "codemirror_mode": {
    "name": "ipython",
    "version": 3
   },
   "file_extension": ".py",
   "mimetype": "text/x-python",
   "name": "python",
   "nbconvert_exporter": "python",
   "pygments_lexer": "ipython3",
   "version": "3.10.2"
  },
  "vscode": {
   "interpreter": {
    "hash": "26de051ba29f2982a8de78e945f0abaf191376122a1563185a90213a26c5da77"
   }
  }
 },
 "nbformat": 4,
 "nbformat_minor": 1
}
