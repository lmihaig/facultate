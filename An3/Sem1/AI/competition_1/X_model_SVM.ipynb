{
 "cells": [
  {
   "cell_type": "code",
   "execution_count": 1,
   "metadata": {},
   "outputs": [],
   "source": [
    "import numpy as np\n",
    "import pprint\n",
    "import pandas as pd\n",
    "from sklearn.svm import LinearSVC\n",
    "from sklearn.model_selection import train_test_split, KFold, cross_validate\n",
    "from sklearn.naive_bayes import BernoulliNB, ComplementNB, MultinomialNB\n",
    "from sklearn.metrics import accuracy_score, f1_score, make_scorer, precision_score, recall_score\n",
    "from sklearn import preprocessing\n",
    "from sklearn.feature_extraction.text import CountVectorizer\n",
    "import advertools as adv\n",
    "from matplotlib import pyplot as plt\n",
    "from sklearn.metrics import confusion_matrix, classification_report\n",
    "from sklearn.model_selection import cross_val_score,  cross_val_predict\n",
    "import seaborn as sns\n",
    "from imblearn.under_sampling import RandomUnderSampler\n",
    "from imblearn.over_sampling import RandomOverSampler, SMOTE\n",
    "pp = pprint.PrettyPrinter(indent=4, sort_dicts=False)"
   ]
  },
  {
   "cell_type": "markdown",
   "metadata": {},
   "source": [
    "#### Loading the data into dataframes and doing light preprocessing "
   ]
  },
  {
   "cell_type": "code",
   "execution_count": 2,
   "metadata": {},
   "outputs": [
    {
     "name": "stdout",
     "output_type": "stream",
     "text": [
      "  language                                               text    label\n",
      "0    dansk   dette er et fremragende initiativ, og jeg stø...  Ireland\n",
      "1    dansk   hr. formand, jeg er sikker på, at alle her er...  Ireland\n",
      "2    dansk   hr. formand, folk på den nordlige halvkugle t...  England\n",
      "3    dansk   hr. formand, med forbehold af nogle få ændrin...  England\n",
      "4    dansk   - hr. formand, jeg må protestere mod den lemf...  England\n",
      "                                                text\n",
      "0   hr. formand, selv om vi i høj grad sympatiser...\n",
      "1   quiero dejar constancia de mi apoyo a este in...\n",
      "2   . – el comercio ilegal de riñones humanos se ...\n",
      "3   signor presidente, per introdurre una nota di...\n",
      "4   jeg stemte for meddelelsen af decharge til fæ...\n"
     ]
    }
   ],
   "source": [
    "def preprocess(data):\n",
    "    data.text = data.text.apply(lambda x: x.lower())\n",
    "    data.text = data.text.replace(r'\\s+|\\\\n', ' ', regex=True)\n",
    "    return data\n",
    "\n",
    "\n",
    "train_data = pd.read_csv(\"data/train_data.csv\")\n",
    "train_data = preprocess(train_data)\n",
    "print(train_data.head())\n",
    "\n",
    "\n",
    "test_data = pd.read_csv(\"data/test_data.csv\")\n",
    "test_data = preprocess(test_data)\n",
    "print(test_data.head())\n"
   ]
  },
  {
   "cell_type": "code",
   "execution_count": 3,
   "metadata": {},
   "outputs": [],
   "source": [
    "train_data = train_data[pd.notnull(train_data[\"text\"])]\n",
    "train_data[\"category_id\"] = train_data[\"label\"].astype(\"category\")\n",
    "train_data[\"category_id\"] = train_data[\"category_id\"].cat.codes\n",
    "train_data[\"lang_id\"] = train_data[\"language\"].astype(\"category\")\n",
    "train_data[\"lang_id\"] = train_data[\"lang_id\"].cat.codes\n",
    "train_data.head()\n",
    "\n",
    "category_id_df = train_data[['label', 'category_id']].drop_duplicates().sort_values('category_id')\n",
    "category_to_id = dict(category_id_df.values)\n",
    "id_to_category = dict(category_id_df[['category_id', 'label']].values)\n"
   ]
  },
  {
   "cell_type": "code",
   "execution_count": 4,
   "metadata": {},
   "outputs": [],
   "source": [
    "import advertools as adv\n",
    "from sklearn.feature_extraction.text import TfidfVectorizer\n",
    "\n",
    "stop_words = []\n",
    "for key in [\"danish\", \"german\", \"dutch\", \"italian\", \"spanish\"]:\n",
    "    stop_words += list(adv.stopwords[key])\n",
    "\n",
    "\n",
    "tfidf = TfidfVectorizer(sublinear_tf=True, min_df=5, norm='l2', ngram_range=(1, 2), stop_words=stop_words)\n",
    "features = tfidf.fit_transform(train_data.text)\n",
    "lang_labels = train_data.lang_id\n",
    "labels = train_data.category_id\n",
    "\n",
    "test_bow = tfidf.transform(test_data.text)\n"
   ]
  },
  {
   "cell_type": "code",
   "execution_count": 5,
   "metadata": {},
   "outputs": [],
   "source": [
    "# # Random Undersampling\n",
    "# us = RandomUnderSampler(random_state=21)\n",
    "# features, labels = us.fit_resample(features, labels)\n",
    "\n",
    "# # Random Oversampling\n",
    "# os = RandomOverSampler(random_state=21)\n",
    "# features, labels= os.fit_resample(features, labels)\n",
    "\n",
    "# # SMOTE\n",
    "# os = SMOTE(random_state=21)\n",
    "# features, labels= os.fit_resample(features, labels)"
   ]
  },
  {
   "cell_type": "code",
   "execution_count": 6,
   "metadata": {},
   "outputs": [],
   "source": [
    "model = LinearSVC(max_iter=5000, random_state=21, C=1,  penalty=\"l1\", dual=False, class_weight=\"balanced\")\n",
    "\n",
    "model.fit(features, labels)\n",
    "predicted_labels = model.predict(test_bow)"
   ]
  },
  {
   "cell_type": "code",
   "execution_count": 7,
   "metadata": {},
   "outputs": [
    {
     "data": {
      "text/plain": [
       "id\n",
       "1     England\n",
       "2    Scotland\n",
       "3     England\n",
       "4     Ireland\n",
       "5    Scotland\n",
       "Name: label, dtype: object"
      ]
     },
     "execution_count": 7,
     "metadata": {},
     "output_type": "execute_result"
    }
   ],
   "source": [
    "final_data = {\"id\": test_data.index+1, \"label\": predicted_labels}\n",
    "\n",
    "submission = pd.DataFrame(data=final_data).set_index(\"id\")\n",
    "submission = submission.label.apply(lambda x: id_to_category[x])\n",
    "submission.to_csv(\"submissions/submission_SVM.csv\")\n",
    "submission.head()\n"
   ]
  },
  {
   "cell_type": "code",
   "execution_count": 8,
   "metadata": {},
   "outputs": [
    {
     "name": "stdout",
     "output_type": "stream",
     "text": [
      "{   'Model': 'LinearSVC',\n",
      "    'Train': {   'Training Accuracy scores': array([0.95245971, 0.95086601, 0.95182824, 0.95131706, 0.94843036]),\n",
      "                 'Mean Training Accuracy': 95.09802742362281,\n",
      "                 'Training Precision scores': array([0.94756832, 0.94544194, 0.94667146, 0.94604731, 0.94243348]),\n",
      "                 'Mean Training Precision': 0.9456325022850244,\n",
      "                 'Training Recall scores': array([0.95040542, 0.94861334, 0.94990104, 0.94967023, 0.94685948]),\n",
      "                 'Mean Training Recall': 0.9490899029135285,\n",
      "                 'Training F1 scores': array([0.94896929, 0.94701082, 0.9482671 , 0.94783753, 0.94461378]),\n",
      "                 'Mean Training F1 Score': 0.9473397041617782},\n",
      "    'Test': {   'Validation Accuracy scores': array([0.73550637, 0.73947558, 0.74933847, 0.74681261, 0.74440702]),\n",
      "                'Mean Validation Accuracy': 74.31080105845561,\n",
      "                'Validation Precision scores': array([0.70807385, 0.71546083, 0.72607209, 0.7223848 , 0.71211644]),\n",
      "                'Mean Validation Precision': 0.7168216017218344,\n",
      "                'Validation Recall scores': array([0.6919865 , 0.69698722, 0.70536284, 0.70414633, 0.70420671]),\n",
      "                'Mean Validation Recall': 0.7005379184034374,\n",
      "                'Validation F1 scores': array([0.6992074 , 0.70522381, 0.7145554 , 0.71236285, 0.70797341]),\n",
      "                'Mean Validation F1 Score': 0.7078645742101577}}\n"
     ]
    },
    {
     "data": {
      "image/png": "[encoded data removed]",
      "text/plain": [
       "<Figure size 900x900 with 2 Axes>"
      ]
     },
     "metadata": {},
     "output_type": "display_data"
    },
    {
     "name": "stdout",
     "output_type": "stream",
     "text": [
      "              precision    recall  f1-score   support\n",
      "\n",
      "     Ireland       0.78      0.83      0.81     22700\n",
      "     England       0.72      0.67      0.69     10535\n",
      "    Scotland       0.65      0.60      0.62      8335\n",
      "\n",
      "    accuracy                           0.74     41570\n",
      "   macro avg       0.72      0.70      0.71     41570\n",
      "weighted avg       0.74      0.74      0.74     41570\n",
      "\n"
     ]
    }
   ],
   "source": [
    "X = features\n",
    "y = labels\n",
    "X_train, X_test, y_train, y_test = train_test_split(X, y, test_size=0.33, stratify=y, random_state=21)\n",
    "_scoring = {'accuracy': make_scorer(accuracy_score),\n",
    "            'precision': make_scorer(precision_score, average='macro'),\n",
    "            'recall': make_scorer(recall_score, average='macro'),\n",
    "            'f1': make_scorer(f1_score, average='macro')\n",
    "            }\n",
    "kfold = KFold(n_splits=5, shuffle=True, random_state=21)\n",
    "results = cross_validate(model, features, labels, scoring=_scoring, cv=kfold, return_train_score=True)\n",
    "pp.pprint({\"Model\": type(model).__name__,\n",
    "            \"Train\": {\n",
    "           \"Training Accuracy scores\": results['train_accuracy'],\n",
    "           \"Mean Training Accuracy\": results['train_accuracy'].mean()*100,\n",
    "           \"Training Precision scores\": results['train_precision'],\n",
    "           \"Mean Training Precision\": results['train_precision'].mean(),\n",
    "           \"Training Recall scores\": results['train_recall'],\n",
    "           \"Mean Training Recall\": results['train_recall'].mean(),\n",
    "           \"Training F1 scores\": results['train_f1'],\n",
    "           \"Mean Training F1 Score\": results['train_f1'].mean(),\n",
    "            },\n",
    "            \"Test\": {\n",
    "           \"Validation Accuracy scores\": results['test_accuracy'],\n",
    "           \"Mean Validation Accuracy\": results['test_accuracy'].mean()*100,\n",
    "           \"Validation Precision scores\": results['test_precision'],\n",
    "           \"Mean Validation Precision\": results['test_precision'].mean(),\n",
    "           \"Validation Recall scores\": results['test_recall'],\n",
    "           \"Mean Validation Recall\": results['test_recall'].mean(),\n",
    "           \"Validation F1 scores\": results['test_f1'],\n",
    "           \"Mean Validation F1 Score\": results['test_f1'].mean()\n",
    "           }})\n",
    "\n",
    "y_pred = cross_val_predict(model, features, labels, cv=kfold)\n",
    "conf_mat = confusion_matrix(labels, y_pred)\n",
    "fig, ax = plt.subplots(figsize=(9, 9))\n",
    "sns.heatmap(conf_mat, annot=True, fmt='d',\n",
    "            xticklabels=category_id_df.label.values, yticklabels=category_id_df.label.values)\n",
    "plt.ylabel('Actual')\n",
    "plt.xlabel('Predicted')\n",
    "plt.show()\n",
    "\n",
    "print(classification_report(labels, y_pred, target_names=train_data['label'].unique()))"
   ]
  }
 ],
 "metadata": {
  "kernelspec": {
   "display_name": "Python 3.10.2 64-bit",
   "language": "python",
   "name": "python3"
  },
  "language_info": {
   "codemirror_mode": {
    "name": "ipython",
    "version": 3
   },
   "file_extension": ".py",
   "mimetype": "text/x-python",
   "name": "python",
   "nbconvert_exporter": "python",
   "pygments_lexer": "ipython3",
   "version": "3.10.2"
  },
  "orig_nbformat": 4,
  "vscode": {
   "interpreter": {
    "hash": "26de051ba29f2982a8de78e945f0abaf191376122a1563185a90213a26c5da77"
   }
  }
 },
 "nbformat": 4,
 "nbformat_minor": 2
}
