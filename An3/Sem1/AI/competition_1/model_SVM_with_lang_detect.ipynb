{
    "cells": [
        {
            "cell_type": "code",
            "execution_count": 2,
            "metadata": {},
            "outputs": [],
            "source": [
                "import numpy as np\n",
                "import pprint\n",
                "import pandas as pd\n",
                "from sklearn.svm import LinearSVC\n",
                "from sklearn.model_selection import train_test_split, KFold, cross_validate\n",
                "from sklearn.naive_bayes import BernoulliNB, ComplementNB, MultinomialNB\n",
                "from sklearn.metrics import accuracy_score, f1_score, make_scorer, precision_score, recall_score\n",
                "from sklearn import preprocessing\n",
                "from sklearn.feature_extraction.text import CountVectorizer\n",
                "import advertools as adv\n",
                "from matplotlib import pyplot as plt\n",
                "from sklearn.metrics import confusion_matrix\n",
                "from sklearn.model_selection import cross_val_score,  cross_val_predict\n",
                "from sklearn.svm import LinearSVC\n",
                "import seaborn as sns\n",
                "from imblearn.under_sampling import RandomUnderSampler\n",
                "from sklearn.metrics import classification_report\n",
                "from imblearn.over_sampling import RandomOverSampler, SMOTE\n",
                "import langdetect\n",
                "pp = pprint.PrettyPrinter(indent=4, sort_dicts=False)"
            ]
        },
        {
            "cell_type": "markdown",
            "metadata": {},
            "source": [
                "#### Loading the data into dataframes and doing light preprocessing "
            ]
        },
        {
            "cell_type": "code",
            "execution_count": 3,
            "metadata": {},
            "outputs": [
                {
                    "name": "stdout",
                    "output_type": "stream",
                    "text": [
                        "  language                                               text    label\n",
                        "0    dansk   dette er et fremragende initiativ, og jeg stø...  Ireland\n",
                        "1    dansk   hr. formand, jeg er sikker på, at alle her er...  Ireland\n",
                        "2    dansk   hr. formand, folk på den nordlige halvkugle t...  England\n",
                        "3    dansk   hr. formand, med forbehold af nogle få ændrin...  England\n",
                        "4    dansk   - hr. formand, jeg må protestere mod den lemf...  England\n",
                        "                                                text\n",
                        "0   hr. formand, selv om vi i høj grad sympatiser...\n",
                        "1   quiero dejar constancia de mi apoyo a este in...\n",
                        "2   . – el comercio ilegal de riñones humanos se ...\n",
                        "3   signor presidente, per introdurre una nota di...\n",
                        "4   jeg stemte for meddelelsen af decharge til fæ...\n"
                    ]
                }
            ],
            "source": [
                "def preprocess(data):\n",
                "    data.text = data.text.apply(lambda x: x.lower().rstrip())\n",
                "    data.text.replace(r'\\s+|\\\\n', ' ', regex=True, inplace = True)\n",
                "    # data.text.replace(r'^\\s*$', np.nan,regex=True, inplace=True)\n",
                "    # data.dropna(inplace=True)\n",
                "    # data.reset_index(drop=True, inplace=True)\n",
                "    return data\n",
                "\n",
                "\n",
                "train_data = pd.read_csv(\"data/train_data.csv\")\n",
                "train_data = preprocess(train_data)\n",
                "print(train_data.head())\n",
                "\n",
                "\n",
                "test_data = pd.read_csv(\"data/test_data.csv\")\n",
                "test_data = preprocess(test_data)\n",
                "print(test_data.head())\n",
                "\n"
            ]
        },
        {
            "cell_type": "code",
            "execution_count": 4,
            "metadata": {},
            "outputs": [],
            "source": [
                "train_data = train_data[pd.notnull(train_data[\"text\"])]\n",
                "train_data[\"category_id\"] = train_data[\"label\"].astype(\"category\")\n",
                "train_data[\"category_id\"] = train_data[\"category_id\"].cat.codes\n",
                "train_data[\"lang_id\"] = train_data[\"language\"].astype(\"category\")\n",
                "train_data[\"lang_id\"] = train_data[\"lang_id\"].cat.codes\n",
                "train_data.head()\n",
                "\n",
                "lang_id_df = train_data[['language', 'lang_id']].drop_duplicates().sort_values('lang_id')\n",
                "lang_to_id = dict(lang_id_df.values)\n",
                "id_to_lang = dict(lang_id_df[['lang_id', 'language']].values)\n",
                "\n",
                "category_id_df = train_data[['label', 'category_id']].drop_duplicates().sort_values('category_id')\n",
                "category_to_id = dict(category_id_df.values)\n",
                "id_to_category = dict(category_id_df[['category_id', 'label']].values)\n"
            ]
        },
        {
            "cell_type": "code",
            "execution_count": 6,
            "metadata": {},
            "outputs": [
                {
                    "data": {
                        "text/plain": [
                            "{'de': 0, 'nl': 1, 'da': 2, 'es': 3, 'it': 4}"
                        ]
                    },
                    "execution_count": 6,
                    "metadata": {},
                    "output_type": "execute_result"
                }
            ],
            "source": [
                "detect_langs_dict"
            ]
        },
        {
            "cell_type": "code",
            "execution_count": 73,
            "metadata": {},
            "outputs": [
                {
                    "name": "stdout",
                    "output_type": "stream",
                    "text": [
                        "text     jeg sagde managua, jeg sagde ikke projektstedet.\n",
                        "Name: 6666, dtype: object\n",
                        "text     dat was zo' n uitgebreid antwoord dat ik geen...\n",
                        "Name: 7210, dtype: object\n",
                        "text    \n",
                        "Name: 7582, dtype: object\n",
                        "text     hr. formand, til forretningsordenen. må jeg o...\n",
                        "Name: 10684, dtype: object\n",
                        "text     jeg opponerer imod kinas etbarnspolitik og an...\n",
                        "Name: 13164, dtype: object\n",
                        "text     fru formand, en bemærkning til forretningsord...\n",
                        "Name: 13419, dtype: object\n"
                    ]
                },
                {
                    "data": {
                        "text/html": [
                            "<div>\n",
                            "<style scoped>\n",
                            "    .dataframe tbody tr th:only-of-type {\n",
                            "        vertical-align: middle;\n",
                            "    }\n",
                            "\n",
                            "    .dataframe tbody tr th {\n",
                            "        vertical-align: top;\n",
                            "    }\n",
                            "\n",
                            "    .dataframe thead th {\n",
                            "        text-align: right;\n",
                            "    }\n",
                            "</style>\n",
                            "<table border=\"1\" class=\"dataframe\">\n",
                            "  <thead>\n",
                            "    <tr style=\"text-align: right;\">\n",
                            "      <th></th>\n",
                            "      <th>text</th>\n",
                            "      <th>lang_id</th>\n",
                            "    </tr>\n",
                            "  </thead>\n",
                            "  <tbody>\n",
                            "  </tbody>\n",
                            "</table>\n",
                            "</div>"
                        ],
                        "text/plain": [
                            "Empty DataFrame\n",
                            "Columns: [text, lang_id]\n",
                            "Index: []"
                        ]
                    },
                    "execution_count": 73,
                    "metadata": {},
                    "output_type": "execute_result"
                }
            ],
            "source": [
                "detect_langs_list = [\"de\", \"nl\", \"da\", \"es\", \"it\"]\n",
                "detect_langs_dict = {key: value for key, value in zip(detect_langs_list, id_to_lang.keys())}\n",
                "langdetect.DetectorFactory.seed = 21\n",
                "\n",
                "def language_detector(row):\n",
                "    try:\n",
                "        langs = langdetect.detect_langs(row[\"text\"])\n",
                "        for lang in langs:\n",
                "            lang = lang.lang\n",
                "            if lang in detect_langs_list:\n",
                "                return detect_langs_dict[lang]\n",
                "            else:\n",
                "                print(row)\n",
                "                return 2\n",
                "    except:\n",
                "        print(row)\n",
                "        return 0\n",
                "\n",
                "test_data[\"lang_id\"] = test_data.apply(lambda row: language_detector(row), axis=1)\n",
                "test_data.loc[~test_data[\"lang_id\"].isin([0,1,2,3,4])]\n"
            ]
        },
        {
            "cell_type": "code",
            "execution_count": 74,
            "metadata": {},
            "outputs": [],
            "source": [
                "import advertools as adv\n",
                "from sklearn.feature_extraction.text import TfidfVectorizer\n",
                "\n",
                "stop_words = []\n",
                "for key in [\"danish\", \"german\", \"dutch\", \"italian\", \"spanish\"]:\n",
                "    stop_words += list(adv.stopwords[key])\n",
                "\n",
                "\n",
                "tfidf = TfidfVectorizer(sublinear_tf=True, min_df=5, norm='l2', encoding='latin-1', ngram_range=(1, 2), stop_words=stop_words)\n"
            ]
        },
        {
            "cell_type": "code",
            "execution_count": 75,
            "metadata": {},
            "outputs": [],
            "source": [
                "from collections import defaultdict\n",
                "\n",
                "lang_bows = defaultdict(int)\n",
                "models = {i: i  for i in range(5)}\n",
                "\n",
                "for language in id_to_lang.keys():\n",
                "    lang_bows[language] = tfidf.fit_transform(train_data[train_data.lang_id == language].text)\n",
                "    models[language] = LinearSVC(max_iter=5000, random_state=21, C=1,  penalty=\"l1\", dual=False, class_weight=\"balanced\").fit(lang_bows[language], train_data[train_data.lang_id == language].category_id)\n",
                "    test_data.loc[test_data.lang_id == language, \"text\"] = test_data.loc[test_data.lang_id == language, \"text\"].apply(lambda x: tfidf.transform([x]).toarray())\n"
            ]
        },
        {
            "cell_type": "code",
            "execution_count": 76,
            "metadata": {},
            "outputs": [],
            "source": [
                "def MultiLangPredict(row):\n",
                "    return models[row[\"lang_id\"]].predict(row[\"text\"])\n",
                "\n",
                "predicted_labels = []\n",
                "for index, row in test_data.iterrows():\n",
                "    predicted_labels.append(MultiLangPredict(row))\n",
                "predicted_labels = [predicted_labels[i][0] for i in range(len(predicted_labels))]\n"
            ]
        },
        {
            "cell_type": "code",
            "execution_count": 77,
            "metadata": {},
            "outputs": [],
            "source": [
                "# # Random Undersampling\n",
                "# us = RandomUnderSampler(random_state=21)\n",
                "# features, labels = us.fit_resample(features, labels)\n",
                "\n",
                "# # Random Oversampling\n",
                "# os = RandomOverSampler(random_state=21)\n",
                "# features, labels= os.fit_resample(features, labels)\n",
                "\n",
                "# # SMOTE\n",
                "# os = SMOTE(random_state=21)\n",
                "# features, labels= os.fit_resample(features, labels)"
            ]
        },
        {
            "cell_type": "code",
            "execution_count": 78,
            "metadata": {},
            "outputs": [
                {
                    "data": {
                        "text/plain": [
                            "id\n",
                            "1     England\n",
                            "2     Ireland\n",
                            "3     England\n",
                            "4     England\n",
                            "5    Scotland\n",
                            "Name: label, dtype: object"
                        ]
                    },
                    "execution_count": 78,
                    "metadata": {},
                    "output_type": "execute_result"
                }
            ],
            "source": [
                "final_data = {\"id\": test_data.index+1, \"label\": predicted_labels}\n",
                "\n",
                "submission = pd.DataFrame(data=final_data).set_index(\"id\")\n",
                "submission = submission.label.apply(lambda x: id_to_category[x])\n",
                "submission.to_csv(\"submissions/submission_SVM_lang_detection.csv\")\n",
                "submission.head()"
            ]
        }
    ],
    "metadata": {
        "kernelspec": {
            "display_name": "Python 3.10.2 64-bit",
            "language": "python",
            "name": "python3"
        },
        "language_info": {
            "codemirror_mode": {
                "name": "ipython",
                "version": 3
            },
            "file_extension": ".py",
            "mimetype": "text/x-python",
            "name": "python",
            "nbconvert_exporter": "python",
            "pygments_lexer": "ipython3",
            "version": "3.10.2"
        },
        "orig_nbformat": 4,
        "vscode": {
            "interpreter": {
                "hash": "26de051ba29f2982a8de78e945f0abaf191376122a1563185a90213a26c5da77"
            }
        }
    },
    "nbformat": 4,
    "nbformat_minor": 2
}
