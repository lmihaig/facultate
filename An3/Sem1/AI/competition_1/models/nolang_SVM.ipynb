{
 "cells": [
  {
   "cell_type": "code",
   "execution_count": 1,
   "metadata": {},
   "outputs": [],
   "source": [
    "from sklearn.feature_extraction.text import TfidfVectorizer\n",
    "import numpy as np\n",
    "import pprint\n",
    "import pandas as pd\n",
    "from sklearn.svm import LinearSVC\n",
    "from sklearn.model_selection import train_test_split, KFold, cross_validate\n",
    "from sklearn.naive_bayes import BernoulliNB, ComplementNB, MultinomialNB\n",
    "from sklearn.metrics import accuracy_score, f1_score, make_scorer, precision_score, recall_score\n",
    "from sklearn import preprocessing\n",
    "from sklearn.feature_extraction.text import CountVectorizer\n",
    "import advertools as adv\n",
    "from matplotlib import pyplot as plt\n",
    "from sklearn.metrics import confusion_matrix, classification_report\n",
    "from sklearn.model_selection import cross_val_score,  cross_val_predict\n",
    "import seaborn as sns\n",
    "from imblearn.under_sampling import RandomUnderSampler\n",
    "from imblearn.over_sampling import RandomOverSampler, SMOTE\n",
    "pp = pprint.PrettyPrinter(indent=4, sort_dicts=False)\n"
   ]
  },
  {
   "cell_type": "code",
   "execution_count": 62,
   "metadata": {},
   "outputs": [
    {
     "name": "stdout",
     "output_type": "stream",
     "text": [
      "   index language                                               text    label\n",
      "0      0       da  Dette er et fremragende initiativ, og jeg støt...  Ireland\n",
      "1      1       da  Hr. formand, jeg er sikker på, at alle her er ...  Ireland\n",
      "2      2       da  Hr. formand, folk på den nordlige halvkugle tr...  England\n",
      "3      3       da  Hr. formand, med forbehold af nogle få ændring...  England\n",
      "4      4       da  Hr. formand, jeg må protestere mod den lemfæld...  England\n",
      "   index                                               text language\n",
      "0      0  Hr. formand, selv om vi i høj grad sympatisere...       da\n",
      "1      1  Quiero dejar constancia de mi apoyo a este inf...       es\n",
      "2      2  – El comercio ilegal de riñones humanos se ha ...       es\n",
      "3      3  Signor Presidente, per introdurre una nota di ...       it\n",
      "4      4  Jeg stemte for meddelelsen af decharge til fæl...       da\n"
     ]
    }
   ],
   "source": [
    "train_data = pd.read_csv(\"../corpus/nolang_dif/train_data.csv\")\n",
    "print(train_data.head())\n",
    "\n",
    "\n",
    "test_data = pd.read_csv(\"../corpus/nolang_dif/test_data.csv\")\n",
    "print(test_data.head())\n"
   ]
  },
  {
   "cell_type": "code",
   "execution_count": 63,
   "metadata": {},
   "outputs": [],
   "source": [
    "train_data = train_data[pd.notnull(train_data[\"text\"])]\n",
    "train_data[\"category_id\"] = train_data[\"label\"].astype(\"category\")\n",
    "train_data[\"category_id\"] = train_data[\"category_id\"].cat.codes\n",
    "train_data[\"lang_id\"] = train_data[\"language\"].astype(\"category\")\n",
    "train_data[\"lang_id\"] = train_data[\"lang_id\"].cat.codes\n",
    "train_data.head()\n",
    "\n",
    "category_id_df = train_data[['label', 'category_id']].drop_duplicates().sort_values('category_id')\n",
    "category_to_id = dict(category_id_df.values)\n",
    "id_to_category = dict(category_id_df[['category_id', 'label']].values)\n"
   ]
  },
  {
   "cell_type": "code",
   "execution_count": 64,
   "metadata": {},
   "outputs": [],
   "source": [
    "kfold = KFold(n_splits=5, shuffle=True, random_state=21)\n",
    "model = LinearSVC(max_iter=5000, random_state=21, C=1,  penalty=\"l1\", dual=False, class_weight=\"balanced\")\n",
    "\n",
    "cvc = CountVectorizer(max_features=500,\n",
    "                      ngram_range=(1, 5))\n",
    "\n",
    "\n",
    "def log_entropy_weight(matrix):\n",
    "    if type(matrix) is not np.ndarray:\n",
    "        matrix = matrix.toarray()\n",
    "    normalized = matrix / (1 + np.sum(matrix, axis=0))\n",
    "    nr_docs, _ = matrix.shape\n",
    "    '''\n",
    "        g_i = 1 + sum     p_ij * log(p_ij + 1)   \n",
    "                 j=1,N  ------------------------\n",
    "                               log(N)                              \n",
    "    '''\n",
    "    entropy = 1 + np.sum(np.multiply(normalized, np.log(normalized + 1)), axis=0)/np.log(nr_docs)\n",
    "    '''\n",
    "        logent_ij = gi * log(tf_ij + 1)\n",
    "    '''\n",
    "    log_ent = entropy * np.log(matrix + 1)\n",
    "    return log_ent\n",
    "\n",
    "\n",
    "stop_words = []\n",
    "for key in [\"danish\", \"german\", \"dutch\", \"italian\", \"spanish\"]:\n",
    "    stop_words += list(adv.stopwords[key])\n",
    "tfidf = TfidfVectorizer(sublinear_tf=True, min_df=5, norm='l2', ngram_range=(1, 5), stop_words=stop_words)\n",
    "\n",
    "def simpleModel(X_train, y_train, X_test):\n",
    "    print(f\"Train size: {len(X_train)}, Test size: {len(X_test)}\")\n",
    "    X = tfidf.fit_transform(list(X_train) + list(X_test))\n",
    "    # X = log_entropy_weight(X)\n",
    "    model.fit(X[:len(X_train)], y_train)\n",
    "    res = model.predict(X[len(X_train):])\n",
    "    return res\n"
   ]
  },
  {
   "cell_type": "code",
   "execution_count": 74,
   "metadata": {},
   "outputs": [
    {
     "name": "stdout",
     "output_type": "stream",
     "text": [
      "Train size: 41568, Test size: 13860\n"
     ]
    }
   ],
   "source": [
    "predicted_labels = simpleModel(train_data.text, train_data.label, test_data.text)"
   ]
  },
  {
   "cell_type": "code",
   "execution_count": 75,
   "metadata": {},
   "outputs": [],
   "source": [
    "final_data = {\"id\": test_data.index+1, \"label\": predicted_labels}\n",
    "\n",
    "submission = pd.DataFrame(data=final_data).set_index(\"id\")\n",
    "submission.head()\n",
    "submission.to_csv(f\"../submissions/nolang_SVM_tf-idf.csv\")\n"
   ]
  },
  {
   "cell_type": "code",
   "execution_count": 101,
   "metadata": {},
   "outputs": [
    {
     "name": "stdout",
     "output_type": "stream",
     "text": [
      "Train size: 33254, Test size: 8314\n",
      "Train size: 33254, Test size: 8314\n",
      "Train size: 33254, Test size: 8314\n",
      "Train size: 33255, Test size: 8313\n",
      "Train size: 33255, Test size: 8313\n"
     ]
    }
   ],
   "source": [
    "acc = []\n",
    "f1 = []\n",
    "predicted = []\n",
    "actual = []\n",
    "\n",
    "features = np.array(train_data.text).reshape(-1, 1)\n",
    "labels = np.array(train_data.label)\n",
    "\n",
    "# # Random Undersampling\n",
    "# us = RandomUnderSampler(random_state=21)\n",
    "# features, labels = us.fit_resample(features, labels)\n",
    "\n",
    "kfold_train = pd.DataFrame({\"text\": features.flatten(), \"label\":labels})\n",
    "for train_index, test_index in kfold.split(kfold_train):\n",
    "    X_train, X_test = kfold_train.text[train_index], kfold_train.text[test_index]\n",
    "    y_train, y_test = list(kfold_train.label[train_index]), list(kfold_train.label[test_index])\n",
    "\n",
    "    res = simpleModel(X_train, y_train, X_test)\n",
    "    predicted.extend(res)\n",
    "    actual.extend(y_test)\n",
    "\n",
    "    acc.append(accuracy_score(res, y_test))\n",
    "    f1.append(f1_score(res, y_test, average=\"weighted\"))"
   ]
  },
  {
   "cell_type": "code",
   "execution_count": 102,
   "metadata": {},
   "outputs": [
    {
     "name": "stdout",
     "output_type": "stream",
     "text": [
      "[0.7358672119316815, 0.7428433966802983, 0.7493384652393553, 0.7511127150246601, 0.7419704077950199]\n",
      "0.744226439334203\n",
      "[0.738301775020489, 0.7458884093869431, 0.7515109162460413, 0.7536368507684551, 0.7429345193793057]\n",
      "0.7464544941602468\n"
     ]
    },
    {
     "data": {
      "image/png": "[encoded data removed]",
      "text/plain": [
       "<Figure size 640x480 with 2 Axes>"
      ]
     },
     "metadata": {},
     "output_type": "display_data"
    }
   ],
   "source": [
    "print(acc)\n",
    "print(np.array(acc).mean())\n",
    "print(f1)\n",
    "print(np.array(f1).mean())\n",
    "\n",
    "conf_mat = confusion_matrix(predicted, actual)\n",
    "sns.heatmap(conf_mat, annot=True, fmt='d',\n",
    "            xticklabels=category_id_df.label.values, yticklabels=category_id_df.label.values)\n",
    "plt.ylabel('Actual')\n",
    "plt.xlabel('Predicted')\n",
    "plt.show()\n"
   ]
  }
 ],
 "metadata": {
  "kernelspec": {
   "display_name": "Python 3.10.2 64-bit",
   "language": "python",
   "name": "python3"
  },
  "language_info": {
   "codemirror_mode": {
    "name": "ipython",
    "version": 3
   },
   "file_extension": ".py",
   "mimetype": "text/x-python",
   "name": "python",
   "nbconvert_exporter": "python",
   "pygments_lexer": "ipython3",
   "version": "3.10.2"
  },
  "orig_nbformat": 4,
  "vscode": {
   "interpreter": {
    "hash": "26de051ba29f2982a8de78e945f0abaf191376122a1563185a90213a26c5da77"
   }
  }
 },
 "nbformat": 4,
 "nbformat_minor": 2
}
