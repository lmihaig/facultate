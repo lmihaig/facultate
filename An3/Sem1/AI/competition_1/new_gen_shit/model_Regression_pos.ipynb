{
    "cells": [
        {
            "cell_type": "code",
            "execution_count": 11,
            "metadata": {},
            "outputs": [],
            "source": [
                "from sklearn.linear_model import LogisticRegression\n",
                "from sklearn.feature_extraction.text import CountVectorizer\n",
                "import pandas as pd\n",
                "import numpy as np"
            ]
        },
        {
            "cell_type": "code",
            "execution_count": 12,
            "metadata": {},
            "outputs": [],
            "source": [
                "def log_entropy_weight(matrix):\n",
                "    if type(matrix) is not np.ndarray:\n",
                "        matrix = matrix.toarray()\n",
                "    normalized = matrix / (1 + np.sum(matrix, axis=0))\n",
                "    nr_docs, _ = matrix.shape\n",
                "    '''\n",
                "        g_i = 1 + sum     p_ij * log(p_ij + 1)   \n",
                "                 j=1,N  ------------------------\n",
                "                               log(N)                              \n",
                "    '''\n",
                "    entropy = 1 + np.sum(np.multiply(normalized, np.log(normalized + 1)), axis=0)/np.log(nr_docs)\n",
                "    '''\n",
                "        logent_ij = gi * log(tf_ij + 1)\n",
                "    '''\n",
                "    log_ent = entropy * np.log(matrix + 1)\n",
                "    return log_ent\n"
            ]
        },
        {
            "cell_type": "code",
            "execution_count": 13,
            "metadata": {},
            "outputs": [
                {
                    "name": "stdout",
                    "output_type": "stream",
                    "text": [
                        "working on: nl\n",
                        "ey i'm log entropying 'ere\n",
                        "working on: da\n",
                        "ey i'm log entropying 'ere\n",
                        "working on: de\n",
                        "ey i'm log entropying 'ere\n",
                        "working on: it\n",
                        "ey i'm log entropying 'ere\n",
                        "working on: es\n",
                        "ey i'm log entropying 'ere\n"
                    ]
                }
            ],
            "source": [
                "langs = [\"nl\",\"da\",\"de\",\"it\",\"es\",]\n",
                "\n",
                "model = LogisticRegression(penalty='l2',\n",
                "                           dual=False,\n",
                "                           max_iter=10000,\n",
                "                           tol=0.0001,\n",
                "                           solver='liblinear',\n",
                "                           C=1,\n",
                "                           fit_intercept=True,\n",
                "                           intercept_scaling=1.0,\n",
                "                           class_weight=None,\n",
                "                           random_state=1)\n",
                "\n",
                "cvc = CountVectorizer(max_features=500,\n",
                "                      strip_accents='unicode',\n",
                "                      analyzer='word',\n",
                "                      lowercase=True,\n",
                "                      token_pattern=r'\\w{1,}',\n",
                "                      ngram_range=(1, 5))\n",
                "ans = pd.DataFrame()\n",
                "for language in langs:\n",
                "    print(\"working on:\", language)\n",
                "    train_data = pd.read_csv(f\"corpus/train/{language}/{language}_pos.csv\")\n",
                "    test_data = pd.read_csv(f\"corpus/test/{language}/{language}_pos.csv\")\n",
                "\n",
                "    X = cvc.fit_transform(list(train_data.text) + list(test_data.text))\n",
                "\n",
                "    print(\"ey i'm log entropying 'ere\")\n",
                "    X = log_entropy_weight(X)\n",
                "\n",
                "    model.fit(X[:len(train_data.text)], train_data.label)\n",
                "    res = model.predict(X[len(train_data.text):])\n",
                "\n",
                "    test_data[\"label\"] = res\n",
                "    test_data = test_data.drop(\"text\", axis=1)\n",
                "    ans = pd.concat([ans, test_data])\n"
            ]
        },
        {
            "cell_type": "code",
            "execution_count": 14,
            "metadata": {},
            "outputs": [],
            "source": [
                "results = ans.copy()"
            ]
        },
        {
            "cell_type": "code",
            "execution_count": 15,
            "metadata": {},
            "outputs": [
                {
                    "name": "stdout",
                    "output_type": "stream",
                    "text": [
                        "   id    label\n",
                        "0   1  England\n",
                        "0   2  England\n",
                        "1   3  England\n",
                        "0   4  England\n",
                        "1   5  England\n"
                    ]
                }
            ],
            "source": [
                "ans[\"index\"] += 1\n",
                "ans = ans.sort_values(by=[\"index\"])\n",
                "ans = ans.rename(columns={\"index\": \"id\"})\n",
                "print(ans.head())\n",
                "ans.to_csv(\"submission_model_Regression_pos.csv\",index=False)"
            ]
        },
        {
            "cell_type": "code",
            "execution_count": 17,
            "metadata": {},
            "outputs": [
                {
                    "data": {
                        "text/plain": [
                            "11086"
                        ]
                    },
                    "execution_count": 17,
                    "metadata": {},
                    "output_type": "execute_result"
                }
            ],
            "source": []
        }
    ],
    "metadata": {
        "kernelspec": {
            "display_name": "Python 3.10.2 64-bit",
            "language": "python",
            "name": "python3"
        },
        "language_info": {
            "codemirror_mode": {
                "name": "ipython",
                "version": 3
            },
            "file_extension": ".py",
            "mimetype": "text/x-python",
            "name": "python",
            "nbconvert_exporter": "python",
            "pygments_lexer": "ipython3",
            "version": "3.10.2"
        },
        "orig_nbformat": 4,
        "vscode": {
            "interpreter": {
                "hash": "26de051ba29f2982a8de78e945f0abaf191376122a1563185a90213a26c5da77"
            }
        }
    },
    "nbformat": 4,
    "nbformat_minor": 2
}
