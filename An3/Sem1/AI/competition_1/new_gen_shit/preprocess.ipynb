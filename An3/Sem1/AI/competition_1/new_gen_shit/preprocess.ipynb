{
 "cells": [
  {
   "cell_type": "markdown",
   "metadata": {},
   "source": [
    "```python\n",
    "python -m spacy download nl_core_news_md\n",
    "python -m spacy download da_core_news_md\n",
    "python -m spacy download de_core_news_md\n",
    "python -m spacy download it_core_news_md\n",
    "python -m spacy download es_core_news_md\n",
    "```"
   ]
  },
  {
   "cell_type": "code",
   "execution_count": 67,
   "metadata": {},
   "outputs": [],
   "source": [
    "import pandas as pd\n",
    "import langdetect\n",
    "import spacy\n",
    "import numpy as np"
   ]
  },
  {
   "cell_type": "code",
   "execution_count": 68,
   "metadata": {},
   "outputs": [],
   "source": [
    "def preprocess(data):\n",
    "    data.text.replace(r'\\s+|\\\\n', ' ', regex=True, inplace=True)\n",
    "    data.text = data.text.str.strip()\n",
    "    data.text = data.text.str.lower()\n",
    "    data.text.replace(r'\\n', '', regex=True, inplace=True)\n",
    "    data.text.replace('', np.nan, regex=True, inplace=True)\n",
    "    data.dropna(inplace=True)\n",
    "    return data\n",
    "\n",
    "train_data = pd.read_csv(\"../data/train_data.csv\")\n",
    "train_data = preprocess(train_data)\n",
    "train_data.reset_index(inplace=True)\n",
    "\n",
    "test_data = pd.read_csv(\"../data/test_data.csv\")\n",
    "test_data = preprocess(test_data)\n",
    "test_data.reset_index(inplace=True)\n"
   ]
  },
  {
   "cell_type": "code",
   "execution_count": 69,
   "metadata": {},
   "outputs": [],
   "source": [
    "language_mapping = {\"Deutsch\": \"de\", \"Nederlands\": \"nl\", \"dansk\": \"da\", \"español\": \"es\", \"italiano\":\"it\"}\n",
    "train_data.replace(language_mapping, inplace=True)\n",
    "\n",
    "for lang in language_mapping.values():\n",
    "    train_data.loc[train_data.language == lang][[\"index\", \"text\", \"label\"]].to_csv(f\"corpus/train/{lang}/{lang}_plain.csv\", index=False)"
   ]
  },
  {
   "cell_type": "code",
   "execution_count": 70,
   "metadata": {},
   "outputs": [],
   "source": [
    "langdetect.DetectorFactory.seed = 21\n",
    "\n",
    "def language_detector(row):\n",
    "    try:\n",
    "        langs = langdetect.detect_langs(row[\"text\"])\n",
    "        for lang in langs:\n",
    "            lang = lang.lang\n",
    "            if lang == \"no\" or lang == \"hr\":\n",
    "                lang = \"da\"\n",
    "            elif lang == \"af\":\n",
    "                lang = \"nl\"\n",
    "                \n",
    "            if lang in language_mapping.values():\n",
    "                return lang\n",
    "            else:\n",
    "                print(\"Language?:\" ,lang)\n",
    "                print(row)\n",
    "                return \"da\"\n",
    "    except:\n",
    "        print(row)\n",
    "        return \"da\"\n",
    "\n",
    "test_data[\"language\"] = test_data.apply(lambda row: language_detector(row), axis=1)"
   ]
  },
  {
   "cell_type": "code",
   "execution_count": 71,
   "metadata": {},
   "outputs": [],
   "source": [
    "for lang in language_mapping.values():\n",
    "    test_data.loc[test_data.language == lang][[\"index\", \"text\"]].to_csv(f\"corpus/test/{lang}/{lang}_plain.csv\", index=False)"
   ]
  },
  {
   "cell_type": "code",
   "execution_count": 72,
   "metadata": {},
   "outputs": [],
   "source": [
    "spacy_packages = {\"nl\": \"nl_core_news_md\",\n",
    "\"da\": \"da_core_news_md\",\n",
    "\"de\": \"de_core_news_md\",\n",
    "\"it\": \"it_core_news_md\",\n",
    "\"es\": \"es_core_news_md\",}\n",
    "\n",
    "def noent(nlp, row):\n",
    "    try:\n",
    "        doc = nlp(row)\n",
    "        sentence = \" \".join([t.text if t.ent_type == 0 else t.ent_type_ for t in doc])\n",
    "        return sentence\n",
    "    except:\n",
    "        print(row)\n",
    "\n",
    "def make_noent(df, nlp, path):\n",
    "    df[\"text\"] = df.text.apply(lambda row: noent(nlp, row))\n",
    "    df.to_csv(path+\"_noent.csv\", index=False)\n",
    "\n",
    "\n",
    "def pos(nlp, row):\n",
    "    try:\n",
    "        doc = nlp(row)\n",
    "        sentence = \" \".join([t.pos_ for t in doc])\n",
    "        return sentence\n",
    "    except:\n",
    "        print(row)\n",
    "\n",
    "def make_pos(df, nlp, path):\n",
    "    df[\"text\"] = df.text.apply(lambda row: pos(nlp, row))\n",
    "    df.to_csv(path+\"_pos.csv\", index=False)\n"
   ]
  },
  {
   "cell_type": "code",
   "execution_count": 73,
   "metadata": {},
   "outputs": [
    {
     "data": {
      "text/html": [
       "<div>\n",
       "<style scoped>\n",
       "    .dataframe tbody tr th:only-of-type {\n",
       "        vertical-align: middle;\n",
       "    }\n",
       "\n",
       "    .dataframe tbody tr th {\n",
       "        vertical-align: top;\n",
       "    }\n",
       "\n",
       "    .dataframe thead th {\n",
       "        text-align: right;\n",
       "    }\n",
       "</style>\n",
       "<table border=\"1\" class=\"dataframe\">\n",
       "  <thead>\n",
       "    <tr style=\"text-align: right;\">\n",
       "      <th></th>\n",
       "      <th>index</th>\n",
       "      <th>text</th>\n",
       "      <th>label</th>\n",
       "    </tr>\n",
       "  </thead>\n",
       "  <tbody>\n",
       "  </tbody>\n",
       "</table>\n",
       "</div>"
      ],
      "text/plain": [
       "Empty DataFrame\n",
       "Columns: [index, text, label]\n",
       "Index: []"
      ]
     },
     "execution_count": 73,
     "metadata": {},
     "output_type": "execute_result"
    }
   ],
   "source": [
    "# # TESTING\n",
    "# it = pd.read_csv(\"corpus/train/it/it_plain.csv\")\n",
    "# it = it.head()\n",
    "# nlp = spacy.load('it_core_news_md')\n",
    "# make_noent(it, nlp, \"corpus/train/it/it\")\n",
    "# make_pos(it, nlp, \"corpus/train/it/it\")"
   ]
  },
  {
   "cell_type": "code",
   "execution_count": 74,
   "metadata": {},
   "outputs": [
    {
     "name": "stdout",
     "output_type": "stream",
     "text": [
      "ready to work 'it'\n",
      "work work\n",
      "ready to work 'it'\n",
      "work work\n",
      "ready to work 'it'\n",
      "work work\n",
      "ready to work 'it'\n",
      "work work\n",
      "ready to work 'it'\n",
      "work work\n"
     ]
    }
   ],
   "source": [
    "for language, spacy_pack in spacy_packages.items():\n",
    "    train_data = pd.read_csv(f\"corpus/train/{language}/{language}_plain.csv\")\n",
    "    test_data = pd.read_csv(f\"corpus/test/{language}/{language}_plain.csv\")\n",
    "\n",
    "    nlp = spacy.load(spacy_pack)\n",
    "\n",
    "    print(f\"ready to work '{language}'\")\n",
    "    make_noent(train_data, nlp, f\"corpus/train/{language}/{language}\")\n",
    "    make_noent(test_data, nlp,  f\"corpus/test/{language}/{language}\")\n",
    "    \n",
    "    print(\"work work\")\n",
    "    make_pos(train_data, nlp, f\"corpus/train/{language}/{language}\")\n",
    "    make_pos(test_data, nlp, f\"corpus/test/{language}/{language}\")\n"
   ]
  }
 ],
 "metadata": {
  "kernelspec": {
   "display_name": "Python 3.10.2 64-bit",
   "language": "python",
   "name": "python3"
  },
  "language_info": {
   "codemirror_mode": {
    "name": "ipython",
    "version": 3
   },
   "file_extension": ".py",
   "mimetype": "text/x-python",
   "name": "python",
   "nbconvert_exporter": "python",
   "pygments_lexer": "ipython3",
   "version": "3.10.2"
  },
  "orig_nbformat": 4,
  "vscode": {
   "interpreter": {
    "hash": "26de051ba29f2982a8de78e945f0abaf191376122a1563185a90213a26c5da77"
   }
  }
 },
 "nbformat": 4,
 "nbformat_minor": 2
}
