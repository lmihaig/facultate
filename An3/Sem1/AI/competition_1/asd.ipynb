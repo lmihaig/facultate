{
 "cells": [
  {
   "cell_type": "code",
   "execution_count": 11,
   "metadata": {},
   "outputs": [],
   "source": [
    "import numpy as np\n",
    "import pandas as pd\n",
    "import random"
   ]
  },
  {
   "cell_type": "code",
   "execution_count": 12,
   "metadata": {},
   "outputs": [],
   "source": [
    "def preprocess(data):\n",
    "    data.text = data.text.apply(lambda x: x.lower())\n",
    "    data.text = data.text.replace(r'\\s+|\\\\n', ' ', regex=True)\n",
    "    return data"
   ]
  },
  {
   "cell_type": "code",
   "execution_count": 13,
   "metadata": {},
   "outputs": [
    {
     "name": "stdout",
     "output_type": "stream",
     "text": [
      "  language                                               text    label\n",
      "0    dansk   dette er et fremragende initiativ, og jeg stø...  Ireland\n",
      "1    dansk   hr. formand, jeg er sikker på, at alle her er...  Ireland\n",
      "2    dansk   hr. formand, folk på den nordlige halvkugle t...  England\n",
      "3    dansk   hr. formand, med forbehold af nogle få ændrin...  England\n",
      "4    dansk   - hr. formand, jeg må protestere mod den lemf...  England\n",
      "                                                text\n",
      "0   hr. formand, selv om vi i høj grad sympatiser...\n",
      "1   quiero dejar constancia de mi apoyo a este in...\n",
      "2   . – el comercio ilegal de riñones humanos se ...\n",
      "3   signor presidente, per introdurre una nota di...\n",
      "4   jeg stemte for meddelelsen af decharge til fæ...\n"
     ]
    }
   ],
   "source": [
    "train_data = pd.read_csv(\"train_data.csv\")\n",
    "train_data = preprocess(train_data)\n",
    "print(train_data.head())\n",
    "\n",
    "test_data = pd.read_csv(\"test_data.csv\")\n",
    "test_data = preprocess(test_data)\n",
    "print(test_data.head())\n"
   ]
  },
  {
   "cell_type": "code",
   "execution_count": 14,
   "metadata": {},
   "outputs": [
    {
     "name": "stdout",
     "output_type": "stream",
     "text": [
      "[{0: 'Deutsch', 1: 'Nederlands', 2: 'dansk', 3: 'español', 4: 'italiano'}, {0: 'England', 1: 'Ireland', 2: 'Scotland'}]\n"
     ]
    }
   ],
   "source": [
    "from sklearn import preprocessing\n",
    "\n",
    "le = preprocessing.LabelEncoder()\n",
    "mappings = []\n",
    "for col in [\"language\", \"label\"]:\n",
    "    train_data[col] = le.fit_transform(train_data[col])\n",
    "    mappings.append(dict(zip(le.transform(le.classes_), le.classes_)))\n",
    "\n",
    "print(mappings)"
   ]
  },
  {
   "cell_type": "code",
   "execution_count": 15,
   "metadata": {},
   "outputs": [
    {
     "name": "stdout",
     "output_type": "stream",
     "text": [
      "[0 1 1 ... 0 0 0]\n"
     ]
    }
   ],
   "source": [
    "from sklearn.feature_extraction.text import CountVectorizer\n",
    "from sklearn.naive_bayes import MultinomialNB\n",
    "\n",
    "count_vec = CountVectorizer()\n",
    "train_bow = count_vec.fit_transform(train_data.text)\n",
    "test_bow = count_vec.transform(test_data.text)\n",
    "\n",
    "model = MultinomialNB().fit(train_bow, train_data.label)\n",
    "predicted_labels = model.predict(test_bow)\n",
    "print(predicted_labels)"
   ]
  },
  {
   "cell_type": "code",
   "execution_count": 16,
   "metadata": {},
   "outputs": [
    {
     "data": {
      "text/plain": [
       "id\n",
       "1     England\n",
       "2     Ireland\n",
       "3     Ireland\n",
       "4     England\n",
       "5    Scotland\n",
       "Name: label, dtype: object"
      ]
     },
     "execution_count": 16,
     "metadata": {},
     "output_type": "execute_result"
    }
   ],
   "source": [
    "final_data = {\"id\": test_data.index+1, \"label\": predicted_labels}\n",
    "\n",
    "submission = pd.DataFrame(data=final_data).set_index(\"id\")\n",
    "submission = submission.label.apply(lambda x: mappings[1][x])\n",
    "submission.to_csv(\"submission.csv\")\n",
    "submission.head()"
   ]
  }
 ],
 "metadata": {
  "kernelspec": {
   "display_name": "Python 3.10.2 64-bit",
   "language": "python",
   "name": "python3"
  },
  "language_info": {
   "codemirror_mode": {
    "name": "ipython",
    "version": 3
   },
   "file_extension": ".py",
   "mimetype": "text/x-python",
   "name": "python",
   "nbconvert_exporter": "python",
   "pygments_lexer": "ipython3",
   "version": "3.10.2"
  },
  "orig_nbformat": 4,
  "vscode": {
   "interpreter": {
    "hash": "26de051ba29f2982a8de78e945f0abaf191376122a1563185a90213a26c5da77"
   }
  }
 },
 "nbformat": 4,
 "nbformat_minor": 2
}
